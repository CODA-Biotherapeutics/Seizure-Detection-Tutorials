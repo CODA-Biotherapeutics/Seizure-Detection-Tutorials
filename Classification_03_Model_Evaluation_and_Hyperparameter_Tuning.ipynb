{
  "nbformat": 4,
  "nbformat_minor": 0,
  "metadata": {
    "colab": {
      "name": "Classification 03. Model Evaluation and Hyperparameter Tuning.ipynb",
      "version": "0.3.2",
      "provenance": [],
      "collapsed_sections": [],
      "toc_visible": true,
      "include_colab_link": true
    },
    "kernelspec": {
      "name": "python3",
      "display_name": "Python 3"
    }
  },
  "cells": [
    {
      "cell_type": "markdown",
      "metadata": {
        "id": "view-in-github",
        "colab_type": "text"
      },
      "source": [
        "<a href=\"https://colab.research.google.com/github/Eldave93/Seizure-Detection-Tutorials/blob/master/Classification_03_Model_Evaluation_and_Hyperparameter_Tuning.ipynb\" target=\"_parent\"><img src=\"https://colab.research.google.com/assets/colab-badge.svg\" alt=\"Open In Colab\"/></a>"
      ]
    },
    {
      "metadata": {
        "id": "Ec1FIPYtlPu3",
        "colab_type": "text"
      },
      "cell_type": "markdown",
      "source": [
        "# Classification Tutorial #03\n",
        "\n",
        "# Model Evaluation and Hyperparameter Tuning\n",
        "\n",
        "by [David Luke Elliott](https://www.lancaster.ac.uk/psychology/about-us/people/david-elliott)\n",
        "/ [GitHub](https://github.com/Eldave93) \n",
        "\n",
        "In the previous notebook we had an overview of some of the supervised classifiers available in scikit-learn. \n",
        "\n",
        "In this notebook we are going to look at methods for evaluating the performance of these classifiers and how to tune the hyperparameters of the models to fit our data better. This will enable us to get a better sense of how the models will generalize to unseen data better, as well as get better performance out of our models."
      ]
    },
    {
      "metadata": {
        "id": "jr67PrD5nO6a",
        "colab_type": "text"
      },
      "cell_type": "markdown",
      "source": [
        "# Load Data\n",
        "\n",
        "First lets start by getting our workspace ready and then loading in the data.\n",
        "\n",
        "**Notes**\n",
        "- See the Feature Extraction Tutorial (Epileptologie) or Feature Pre-Processing tutorials if your unsure how to get the data"
      ]
    },
    {
      "metadata": {
        "id": "DzzddnYV_T2D",
        "colab_type": "code",
        "outputId": "ba1e77d4-6b7f-41cc-d0dd-d7b8ba3d5ba2",
        "colab": {
          "base_uri": "https://localhost:8080/",
          "height": 132
        }
      },
      "cell_type": "code",
      "source": [
        "from google.colab import drive\n",
        "drive.mount('/content/gdrive')"
      ],
      "execution_count": 1,
      "outputs": [
        {
          "output_type": "stream",
          "text": [
            "Go to this URL in a browser: https://accounts.google.com/o/oauth2/auth?client_id=947318989803-6bn6qk8qdgf4n4g3pfee6491hc0brc4i.apps.googleusercontent.com&redirect_uri=urn%3Aietf%3Awg%3Aoauth%3A2.0%3Aoob&scope=email%20https%3A%2F%2Fwww.googleapis.com%2Fauth%2Fdocs.test%20https%3A%2F%2Fwww.googleapis.com%2Fauth%2Fdrive%20https%3A%2F%2Fwww.googleapis.com%2Fauth%2Fdrive.photos.readonly%20https%3A%2F%2Fwww.googleapis.com%2Fauth%2Fpeopleapi.readonly&response_type=code\n",
            "\n",
            "Enter your authorization code:\n",
            "··········\n",
            "Mounted at /content/gdrive\n"
          ],
          "name": "stdout"
        }
      ]
    },
    {
      "metadata": {
        "id": "WuqA7o17_wcY",
        "colab_type": "text"
      },
      "cell_type": "markdown",
      "source": [
        "You may need to change below to where you have saved the dataset"
      ]
    },
    {
      "metadata": {
        "id": "4_r9IMrB_viA",
        "colab_type": "code",
        "colab": {}
      },
      "cell_type": "code",
      "source": [
        "FILE_PATH = '/content/gdrive/My Drive/Data/feature_df.json.gzip'"
      ],
      "execution_count": 0,
      "outputs": []
    },
    {
      "metadata": {
        "id": "D3j6sFdMlJGH",
        "colab_type": "code",
        "outputId": "ea1828ec-603e-47c1-b8a0-bf3499e4bb95",
        "colab": {
          "base_uri": "https://localhost:8080/",
          "height": 1267
        }
      },
      "cell_type": "code",
      "source": [
        "import os                         # for file locations\n",
        "import matplotlib.pyplot as plt   # for plotting\n",
        "import numpy as np                # arrays\n",
        "import pickle                     # saving python objects\n",
        "import pandas as pd               # dataframes\n",
        "\n",
        "# colours for printing outputs\n",
        "class color:\n",
        "   PURPLE = '\\033[95m'\n",
        "   CYAN = '\\033[96m'\n",
        "   DARKCYAN = '\\033[36m'\n",
        "   BLUE = '\\033[94m'\n",
        "   GREEN = '\\033[92m'\n",
        "   YELLOW = '\\033[93m'\n",
        "   RED = '\\033[91m'\n",
        "   BOLD = '\\033[1m'\n",
        "   UNDERLINE = '\\033[4m'\n",
        "   END = '\\033[0m'\n",
        "\n",
        "# load features dataframe\n",
        "feature_df = pd.read_json(FILE_PATH, orient='index', compression = 'gzip')\n",
        "\n",
        "# display examples of the data\n",
        "display(feature_df.info())\n",
        "display(feature_df.head())"
      ],
      "execution_count": 3,
      "outputs": [
        {
          "output_type": "stream",
          "text": [
            "<class 'pandas.core.frame.DataFrame'>\n",
            "Int64Index: 500 entries, 0 to 499\n",
            "Data columns (total 38 columns):\n",
            "D1_LSWT        500 non-null float64\n",
            "D1_Ratio       500 non-null float64\n",
            "D1_mean        500 non-null float64\n",
            "D1_mean_abs    500 non-null float64\n",
            "D1_std         500 non-null float64\n",
            "D2_LSWT        500 non-null float64\n",
            "D2_Ratio       500 non-null float64\n",
            "D2_mean        500 non-null float64\n",
            "D2_mean_abs    500 non-null float64\n",
            "D2_std         500 non-null float64\n",
            "D3_LSWT        500 non-null float64\n",
            "D3_Ratio       500 non-null float64\n",
            "D3_mean        500 non-null float64\n",
            "D3_mean_abs    500 non-null float64\n",
            "D3_std         500 non-null float64\n",
            "D4_LSWT        500 non-null float64\n",
            "D4_Ratio       500 non-null float64\n",
            "D4_mean        500 non-null float64\n",
            "D4_mean_abs    500 non-null float64\n",
            "D4_std         500 non-null float64\n",
            "D5_LSWT        500 non-null float64\n",
            "D5_Ratio       500 non-null float64\n",
            "D5_mean        500 non-null float64\n",
            "D5_mean_abs    500 non-null float64\n",
            "D5_std         500 non-null float64\n",
            "D6_LSWT        500 non-null float64\n",
            "D6_Ratio       500 non-null float64\n",
            "D6_mean        500 non-null float64\n",
            "D6_mean_abs    500 non-null float64\n",
            "D6_std         500 non-null float64\n",
            "class          500 non-null object\n",
            "file_id        500 non-null object\n",
            "location       500 non-null object\n",
            "power_alpha    500 non-null float64\n",
            "power_beta     500 non-null float64\n",
            "power_delta    500 non-null float64\n",
            "power_gamma    500 non-null float64\n",
            "power_theta    500 non-null float64\n",
            "dtypes: float64(35), object(3)\n",
            "memory usage: 152.3+ KB\n"
          ],
          "name": "stdout"
        },
        {
          "output_type": "display_data",
          "data": {
            "text/plain": [
              "None"
            ]
          },
          "metadata": {
            "tags": []
          }
        },
        {
          "output_type": "display_data",
          "data": {
            "text/html": [
              "<div>\n",
              "<style scoped>\n",
              "    .dataframe tbody tr th:only-of-type {\n",
              "        vertical-align: middle;\n",
              "    }\n",
              "\n",
              "    .dataframe tbody tr th {\n",
              "        vertical-align: top;\n",
              "    }\n",
              "\n",
              "    .dataframe thead th {\n",
              "        text-align: right;\n",
              "    }\n",
              "</style>\n",
              "<table border=\"1\" class=\"dataframe\">\n",
              "  <thead>\n",
              "    <tr style=\"text-align: right;\">\n",
              "      <th></th>\n",
              "      <th>D1_LSWT</th>\n",
              "      <th>D1_Ratio</th>\n",
              "      <th>D1_mean</th>\n",
              "      <th>D1_mean_abs</th>\n",
              "      <th>D1_std</th>\n",
              "      <th>D2_LSWT</th>\n",
              "      <th>D2_Ratio</th>\n",
              "      <th>D2_mean</th>\n",
              "      <th>D2_mean_abs</th>\n",
              "      <th>D2_std</th>\n",
              "      <th>...</th>\n",
              "      <th>D6_mean_abs</th>\n",
              "      <th>D6_std</th>\n",
              "      <th>class</th>\n",
              "      <th>file_id</th>\n",
              "      <th>location</th>\n",
              "      <th>power_alpha</th>\n",
              "      <th>power_beta</th>\n",
              "      <th>power_delta</th>\n",
              "      <th>power_gamma</th>\n",
              "      <th>power_theta</th>\n",
              "    </tr>\n",
              "  </thead>\n",
              "  <tbody>\n",
              "    <tr>\n",
              "      <th>0</th>\n",
              "      <td>3.665018</td>\n",
              "      <td>0.362810</td>\n",
              "      <td>-0.041443</td>\n",
              "      <td>1.910710</td>\n",
              "      <td>2.479649</td>\n",
              "      <td>4.749819</td>\n",
              "      <td>0.631333</td>\n",
              "      <td>-0.008293</td>\n",
              "      <td>5.266416</td>\n",
              "      <td>6.528848</td>\n",
              "      <td>...</td>\n",
              "      <td>76.722313</td>\n",
              "      <td>95.640549</td>\n",
              "      <td>baseline</td>\n",
              "      <td>F001</td>\n",
              "      <td>intracranial epileptogenic zone</td>\n",
              "      <td>13.102026</td>\n",
              "      <td>4.033713</td>\n",
              "      <td>125.389091</td>\n",
              "      <td>1.101212</td>\n",
              "      <td>38.175072</td>\n",
              "    </tr>\n",
              "    <tr>\n",
              "      <th>1</th>\n",
              "      <td>8.020356</td>\n",
              "      <td>0.208105</td>\n",
              "      <td>-0.002805</td>\n",
              "      <td>1.761159</td>\n",
              "      <td>3.013578</td>\n",
              "      <td>8.062119</td>\n",
              "      <td>0.514802</td>\n",
              "      <td>0.120496</td>\n",
              "      <td>8.462824</td>\n",
              "      <td>18.706007</td>\n",
              "      <td>...</td>\n",
              "      <td>281.597393</td>\n",
              "      <td>402.092208</td>\n",
              "      <td>baseline</td>\n",
              "      <td>F002</td>\n",
              "      <td>intracranial epileptogenic zone</td>\n",
              "      <td>201.886582</td>\n",
              "      <td>52.737781</td>\n",
              "      <td>3797.194021</td>\n",
              "      <td>14.147616</td>\n",
              "      <td>492.166476</td>\n",
              "    </tr>\n",
              "    <tr>\n",
              "      <th>2</th>\n",
              "      <td>7.170449</td>\n",
              "      <td>0.210005</td>\n",
              "      <td>-0.034373</td>\n",
              "      <td>2.179047</td>\n",
              "      <td>4.973884</td>\n",
              "      <td>7.197397</td>\n",
              "      <td>0.499067</td>\n",
              "      <td>-0.034026</td>\n",
              "      <td>10.376156</td>\n",
              "      <td>15.889841</td>\n",
              "      <td>...</td>\n",
              "      <td>298.635855</td>\n",
              "      <td>360.445632</td>\n",
              "      <td>baseline</td>\n",
              "      <td>F003</td>\n",
              "      <td>intracranial epileptogenic zone</td>\n",
              "      <td>135.970946</td>\n",
              "      <td>39.098686</td>\n",
              "      <td>787.823018</td>\n",
              "      <td>8.769312</td>\n",
              "      <td>208.119170</td>\n",
              "    </tr>\n",
              "    <tr>\n",
              "      <th>3</th>\n",
              "      <td>6.950912</td>\n",
              "      <td>0.365782</td>\n",
              "      <td>-0.032627</td>\n",
              "      <td>1.812019</td>\n",
              "      <td>2.324897</td>\n",
              "      <td>7.086014</td>\n",
              "      <td>0.516294</td>\n",
              "      <td>0.081712</td>\n",
              "      <td>4.953816</td>\n",
              "      <td>6.422304</td>\n",
              "      <td>...</td>\n",
              "      <td>127.731141</td>\n",
              "      <td>167.126107</td>\n",
              "      <td>baseline</td>\n",
              "      <td>F004</td>\n",
              "      <td>intracranial epileptogenic zone</td>\n",
              "      <td>34.191639</td>\n",
              "      <td>7.443866</td>\n",
              "      <td>240.974656</td>\n",
              "      <td>1.923739</td>\n",
              "      <td>105.055098</td>\n",
              "    </tr>\n",
              "    <tr>\n",
              "      <th>4</th>\n",
              "      <td>8.480473</td>\n",
              "      <td>0.198041</td>\n",
              "      <td>0.081691</td>\n",
              "      <td>3.478807</td>\n",
              "      <td>6.027705</td>\n",
              "      <td>8.460379</td>\n",
              "      <td>0.625299</td>\n",
              "      <td>0.069729</td>\n",
              "      <td>17.566081</td>\n",
              "      <td>28.556063</td>\n",
              "      <td>...</td>\n",
              "      <td>270.422836</td>\n",
              "      <td>349.299940</td>\n",
              "      <td>baseline</td>\n",
              "      <td>F005</td>\n",
              "      <td>intracranial epileptogenic zone</td>\n",
              "      <td>218.880920</td>\n",
              "      <td>68.804894</td>\n",
              "      <td>1154.608671</td>\n",
              "      <td>18.070537</td>\n",
              "      <td>462.277208</td>\n",
              "    </tr>\n",
              "  </tbody>\n",
              "</table>\n",
              "<p>5 rows × 38 columns</p>\n",
              "</div>"
            ],
            "text/plain": [
              "    D1_LSWT  D1_Ratio   D1_mean  D1_mean_abs    D1_std   D2_LSWT  D2_Ratio  \\\n",
              "0  3.665018  0.362810 -0.041443     1.910710  2.479649  4.749819  0.631333   \n",
              "1  8.020356  0.208105 -0.002805     1.761159  3.013578  8.062119  0.514802   \n",
              "2  7.170449  0.210005 -0.034373     2.179047  4.973884  7.197397  0.499067   \n",
              "3  6.950912  0.365782 -0.032627     1.812019  2.324897  7.086014  0.516294   \n",
              "4  8.480473  0.198041  0.081691     3.478807  6.027705  8.460379  0.625299   \n",
              "\n",
              "    D2_mean  D2_mean_abs     D2_std  ...  D6_mean_abs      D6_std     class  \\\n",
              "0 -0.008293     5.266416   6.528848  ...    76.722313   95.640549  baseline   \n",
              "1  0.120496     8.462824  18.706007  ...   281.597393  402.092208  baseline   \n",
              "2 -0.034026    10.376156  15.889841  ...   298.635855  360.445632  baseline   \n",
              "3  0.081712     4.953816   6.422304  ...   127.731141  167.126107  baseline   \n",
              "4  0.069729    17.566081  28.556063  ...   270.422836  349.299940  baseline   \n",
              "\n",
              "   file_id                         location  power_alpha  power_beta  \\\n",
              "0     F001  intracranial epileptogenic zone    13.102026    4.033713   \n",
              "1     F002  intracranial epileptogenic zone   201.886582   52.737781   \n",
              "2     F003  intracranial epileptogenic zone   135.970946   39.098686   \n",
              "3     F004  intracranial epileptogenic zone    34.191639    7.443866   \n",
              "4     F005  intracranial epileptogenic zone   218.880920   68.804894   \n",
              "\n",
              "   power_delta  power_gamma  power_theta  \n",
              "0   125.389091     1.101212    38.175072  \n",
              "1  3797.194021    14.147616   492.166476  \n",
              "2   787.823018     8.769312   208.119170  \n",
              "3   240.974656     1.923739   105.055098  \n",
              "4  1154.608671    18.070537   462.277208  \n",
              "\n",
              "[5 rows x 38 columns]"
            ]
          },
          "metadata": {
            "tags": []
          }
        }
      ]
    },
    {
      "metadata": {
        "id": "yMsqqJfdoSYL",
        "colab_type": "text"
      },
      "cell_type": "markdown",
      "source": [
        "# Data Preparation\n",
        "\n",
        "The below broadly copies some of the data preparation from the previous notebooks"
      ]
    },
    {
      "metadata": {
        "id": "vdfxfbqVoozj",
        "colab_type": "code",
        "outputId": "5814dfa3-4c7d-4882-8a1b-5013f08da852",
        "colab": {
          "base_uri": "https://localhost:8080/",
          "height": 55
        }
      },
      "cell_type": "code",
      "source": [
        "from sklearn.preprocessing import LabelEncoder\n",
        "from sklearn.model_selection import train_test_split\n",
        "\n",
        "TEST_SIZE = 0.2\n",
        "RANDOM_STATE = 0\n",
        "\n",
        "feature_reduced = feature_df[feature_df.location != 'surface']\n",
        "feature_reduced_drop = feature_reduced.drop(['class', 'file_id', 'location'], \n",
        "                                            axis='columns')\n",
        "data_x = feature_reduced_drop.values\n",
        "\n",
        "# make a label encoder\n",
        "le = LabelEncoder()\n",
        "# change the string labels to ints\n",
        "data_y = le.fit_transform(feature_reduced['class'])\n",
        "    \n",
        "X_train, X_test, y_train, y_test = train_test_split(data_x, data_y, \n",
        "                                                    test_size=TEST_SIZE, \n",
        "                                                    random_state=RANDOM_STATE)\n",
        "\n",
        "X_train, X_val, y_train, y_val = train_test_split(X_train, y_train, \n",
        "                                                  test_size=TEST_SIZE, \n",
        "                                                  random_state=RANDOM_STATE)\n",
        "\n",
        "print(X_train.shape, X_val.shape, X_test.shape)\n",
        "print(y_train.shape, y_val.shape, y_test.shape)"
      ],
      "execution_count": 4,
      "outputs": [
        {
          "output_type": "stream",
          "text": [
            "(192, 35) (48, 35) (60, 35)\n",
            "(192,) (48,) (60,)\n"
          ],
          "name": "stdout"
        }
      ]
    },
    {
      "metadata": {
        "id": "MPCkTAxbS01y",
        "colab_type": "text"
      },
      "cell_type": "markdown",
      "source": [
        "# Classifiers\n",
        "\n",
        "We came across a number of classifiers last time. Lets quickly make a few so we can compare and change them later."
      ]
    },
    {
      "metadata": {
        "id": "QCox83srSxF7",
        "colab_type": "code",
        "colab": {}
      },
      "cell_type": "code",
      "source": [
        "from sklearn.pipeline import Pipeline\n",
        "from sklearn.preprocessing import StandardScaler\n",
        "from sklearn.linear_model import LogisticRegression\n",
        "from sklearn.svm import SVC\n",
        "from sklearn.tree import DecisionTreeClassifier\n",
        "from sklearn.neighbors import KNeighborsClassifier\n",
        "\n",
        "# Logistic Regression\n",
        "pipe_reg = Pipeline([('scl', StandardScaler()),\n",
        "                     ('clf', LogisticRegression(class_weight='balanced',\n",
        "                                                solver = 'liblinear',\n",
        "                                                random_state=RANDOM_STATE))])\n",
        "\n",
        "# Support Vector Machine\n",
        "pipe_svc = Pipeline([('scl', StandardScaler()),\n",
        "                    ('clf', SVC(kernel='rbf', \n",
        "                                class_weight = 'balanced',\n",
        "                                probability=True,\n",
        "                                random_state=RANDOM_STATE))])\n",
        "\n",
        "# Decision Tree\n",
        "DT = DecisionTreeClassifier(random_state=RANDOM_STATE)\n",
        "\n",
        "# K-Nearest Neighbours\n",
        "pipe_kkn = Pipeline([('scl', StandardScaler()),\n",
        "                    ('clf', KNeighborsClassifier())])\n",
        "\n",
        "# list of classifier names\n",
        "classifier_names = ['Logistic Regression', 'Support Vector Machine', \n",
        "                    'Decision Tree', 'K-Nearest Neighbors']\n",
        "\n",
        "# list of classifiers\n",
        "classifiers = [pipe_reg, pipe_svc, DT, pipe_kkn]\n",
        "\n",
        "# fit all the classifiers to the training data\n",
        "for classifier in classifiers:\n",
        "  classifier.fit(X_train, y_train)"
      ],
      "execution_count": 0,
      "outputs": []
    },
    {
      "metadata": {
        "id": "cOpBtNuUS56M",
        "colab_type": "text"
      },
      "cell_type": "markdown",
      "source": [
        "# Performance Evaluation\n",
        "\n",
        "We have been focusing on accuracy to evaluate a models performance, but we can get much more information about our models performance. "
      ]
    },
    {
      "metadata": {
        "id": "Na9tYSbzTM1_",
        "colab_type": "text"
      },
      "cell_type": "markdown",
      "source": [
        "## Metrics\n",
        "\n",
        "Lets first have a look at a 'confusion matrix' when the logistic regression model is fit to the validation data. A confusion matrix shows what the models predicted label was and what the actual label is."
      ]
    },
    {
      "metadata": {
        "id": "iValpVSuTKMv",
        "colab_type": "code",
        "outputId": "eac498c9-8080-4837-ee39-ea7e75dbbdd4",
        "colab": {
          "base_uri": "https://localhost:8080/",
          "height": 158
        }
      },
      "cell_type": "code",
      "source": [
        "from sklearn.metrics import confusion_matrix\n",
        "\n",
        "def pretty_confusion_matrix(confmat):\n",
        "\n",
        "    # this creates the matplotlib graph to make the confmat look nicer\n",
        "    fig, ax = plt.subplots(figsize=(2.5, 2.5))\n",
        "    ax.matshow(confmat, cmap=plt.cm.Blues, alpha=0.3)\n",
        "    for i in range(confmat.shape[0]):\n",
        "        for j in range(confmat.shape[1]):\n",
        "            ax.text(x=j, y=i, s=confmat[i, j], va='center', ha='center')\n",
        "       \n",
        "    # change the labels\n",
        "    ax.set_xticklabels(['']+['Baseline', 'Seizure'])\n",
        "    ax.set_yticklabels(['']+['Baseline', 'Seizure'])\n",
        "\n",
        "    plt.xlabel('Predicted Label')\n",
        "    plt.ylabel('True Label')\n",
        "    ax.xaxis.set_label_position('top')\n",
        "\n",
        "    plt.tight_layout()\n",
        "    \n",
        "    plt.show()\n",
        "    \n",
        "    \n",
        "# use the first classifier to predict the validation set    \n",
        "predictions = classifiers[0].predict(X_val)\n",
        "\n",
        "# get the confusion matrix as a numpy array\n",
        "confmat = confusion_matrix(y_true=y_val, y_pred=predictions)\n",
        "\n",
        "# use the pretty function to make it nicer\n",
        "pretty_confusion_matrix(confmat)"
      ],
      "execution_count": 6,
      "outputs": [
        {
          "output_type": "display_data",
          "data": {
            "image/png": "[encoded data removed]",
            "text/plain": [
              "<Figure size 180x180 with 1 Axes>"
            ]
          },
          "metadata": {
            "tags": []
          }
        }
      ]
    },
    {
      "metadata": {
        "id": "h2Pk2BRATw7y",
        "colab_type": "text"
      },
      "cell_type": "markdown",
      "source": [
        "Using this confusion matrix we can manually work out a number of different performance metrics.\n",
        "\n",
        "> **Error and Accuracy** \n",
        "\n",
        "> Give general performance information regarding the number of all correct or false predictions comparative to the total number of predictions for both the positive and negative labels.\n",
        "\n",
        "> **Recall (or True Positive Rate)** \n",
        "\n",
        "> Calculates how many of the actual positives our model correctly or incorrectly labelled. This is useful when the fraction of correctly or misclassified samples in the positive class are of interest.\n",
        "\n",
        "> **Precision (PRE)** \n",
        "\n",
        "> Precision gives information on how precise your model is by looking at how many positive predicted labels are actually positive. To calculate it you just take the true  positives and divide it by the total true and false positives. Precision is a good measure to determine, when the costs of a False Positive is high.\n",
        "\n",
        "> **F1-score**\n",
        "\n",
        "> F1-score is a combination of Recall and Precision used when there is an uneven class distribution due to a large number of Actual Negatives that you are not as focused on. \n",
        "\n",
        "Different metrics maybe more appropriate depending on the application. For example, the priority may be to identify seizures and not as much on correctly identifying inter-ictal periods, therefore recall would be a better metic to look at. If we are looking at patients at risk for Sudden Unexpected Death in Epilepsy (SUDEP), then the costs of having a miss-classified actual positive (or false negative) is very high.\n",
        "\n",
        "**Note**\n",
        "- In the descriptions ictal activity would be the positive prediction and interical activity the negative.\n",
        "\n",
        "---\n",
        "\n",
        "1. Raschka, Sebastian, and Vahid Mirjalili. Python Machine Learning, 2nd Ed. Packt Publishing, 2017.\n",
        "2. https://towardsdatascience.com/accuracy-precision-recall-or-f1-331fb37c5cb9"
      ]
    },
    {
      "metadata": {
        "id": "yABCyA5ET0Ca",
        "colab_type": "code",
        "outputId": "87b856c3-198a-48c0-d0bc-6c374deefba0",
        "colab": {
          "base_uri": "https://localhost:8080/",
          "height": 169
        }
      },
      "cell_type": "code",
      "source": [
        "FP = confmat[0,1]\n",
        "TN = confmat[0,0]\n",
        "TP = confmat[1,1]\n",
        "FN = confmat[1,0]\n",
        "\n",
        "ERR = (FP+FN)/(FP+FN+TP+TN)\n",
        "ACC = 1-ERR\n",
        "TPR = TP/(FN+TP)\n",
        "FPR = FP/(FP+TN)\n",
        "PRE = TP/(TP+FP)\n",
        "REC = TP/(FN+TP)\n",
        "F1 = 2*((PRE*REC)/(PRE+REC))\n",
        "\n",
        "print('True positive rate (TPR): %.3f' % TPR)\n",
        "print('False positive rate (FPR): %.3f' % FPR)\n",
        "print('Error (ERR): %.3f' % ERR)\n",
        "print()\n",
        "print('Accuracy (ACC): %.3f' % ACC)\n",
        "print('Precision (PRE): %.3f' % PRE)\n",
        "print('Recall (REC): %.3f' % REC)\n",
        "print('F1-score (F1): %.3f' % F1)"
      ],
      "execution_count": 7,
      "outputs": [
        {
          "output_type": "stream",
          "text": [
            "True positive rate (TPR): 1.000\n",
            "False positive rate (FPR): 0.056\n",
            "Error (ERR): 0.042\n",
            "\n",
            "Accuracy (ACC): 0.958\n",
            "Precision (PRE): 0.857\n",
            "Recall (REC): 1.000\n",
            "F1-score (F1): 0.923\n"
          ],
          "name": "stdout"
        }
      ]
    },
    {
      "metadata": {
        "id": "1eAWNhz_UArW",
        "colab_type": "text"
      },
      "cell_type": "markdown",
      "source": [
        "Rather than manually calculating the metrics, we can use the inbuilt sklearn method to calculate them."
      ]
    },
    {
      "metadata": {
        "id": "JxMVtOyiUB3A",
        "colab_type": "code",
        "outputId": "6f245c6b-c7ad-4af5-a642-67dfc23e055b",
        "colab": {
          "base_uri": "https://localhost:8080/",
          "height": 93
        }
      },
      "cell_type": "code",
      "source": [
        "from sklearn.metrics import precision_score, recall_score, f1_score\n",
        "from sklearn.metrics import accuracy_score\n",
        "\n",
        "print('Accuracy (ACC): %.3f' % accuracy_score(y_true=y_val, y_pred=predictions))\n",
        "print('Precision (PRE): %.3f' % precision_score(y_true=y_val, y_pred=predictions))\n",
        "print('Recall (REC): %.3f' % recall_score(y_true=y_val, y_pred=predictions))\n",
        "print('F1-score (F1): %.3f' % f1_score(y_true=y_val, y_pred=predictions))"
      ],
      "execution_count": 8,
      "outputs": [
        {
          "output_type": "stream",
          "text": [
            "Accuracy (ACC): 0.958\n",
            "Precision (PRE): 0.857\n",
            "Recall (REC): 1.000\n",
            "F1-score (F1): 0.923\n"
          ],
          "name": "stdout"
        }
      ]
    },
    {
      "metadata": {
        "id": "0UZohdDdVeA8",
        "colab_type": "text"
      },
      "cell_type": "markdown",
      "source": [
        "Furthermore we can use a classification report, which gives more information such as the micro avg, macro avg, and weighted avg; although we can still specify this in the previous method using the average parameter.\n",
        "\n",
        "\n",
        "> **Macro Average**\n",
        "- Treats all classes equally as each metric is calculated independently and the average is taken.\n",
        "\n",
        "> **Micro Average**\n",
        "- Aggregates the contributions of all classes and computes an average metric. \n",
        "- This is preferable to macro avg  in cases with class imbalances.\n",
        "\n",
        "> **Weighted Average** \n",
        "- Each contribution to the average is weighted by the relative number of examples in a class available.\n",
        "\n",
        "**NOTES**\n",
        "- The support is the number of occurrences of each class in y_true.\n",
        "- Notice how the previous metrics were based on the seizure scores. This is because in binary classification problems, the default positive label is the target (class 1). You can change this if you are more interested in the other classes performance or the average metrics.\n",
        "\n",
        "---\n",
        "https://datascience.stackexchange.com/questions/15989/micro-average-vs-macro-average-performance-in-a-multiclass-classification-settin"
      ]
    },
    {
      "metadata": {
        "id": "e3KtRatTVew1",
        "colab_type": "code",
        "outputId": "8f2d6d1c-2dba-4a1c-e745-f169321d8dc3",
        "colab": {
          "base_uri": "https://localhost:8080/",
          "height": 175
        }
      },
      "cell_type": "code",
      "source": [
        "from sklearn.metrics import classification_report\n",
        "\n",
        "pd.DataFrame(classification_report(y_val, \n",
        "                                   predictions, \n",
        "                                   labels=None, \n",
        "                                   target_names=['Baseline', 'Seizure'], \n",
        "                                   sample_weight=None, \n",
        "                                   digits=2, \n",
        "                                   output_dict=True))"
      ],
      "execution_count": 9,
      "outputs": [
        {
          "output_type": "execute_result",
          "data": {
            "text/html": [
              "<div>\n",
              "<style scoped>\n",
              "    .dataframe tbody tr th:only-of-type {\n",
              "        vertical-align: middle;\n",
              "    }\n",
              "\n",
              "    .dataframe tbody tr th {\n",
              "        vertical-align: top;\n",
              "    }\n",
              "\n",
              "    .dataframe thead th {\n",
              "        text-align: right;\n",
              "    }\n",
              "</style>\n",
              "<table border=\"1\" class=\"dataframe\">\n",
              "  <thead>\n",
              "    <tr style=\"text-align: right;\">\n",
              "      <th></th>\n",
              "      <th>Baseline</th>\n",
              "      <th>Seizure</th>\n",
              "      <th>micro avg</th>\n",
              "      <th>macro avg</th>\n",
              "      <th>weighted avg</th>\n",
              "    </tr>\n",
              "  </thead>\n",
              "  <tbody>\n",
              "    <tr>\n",
              "      <th>f1-score</th>\n",
              "      <td>0.971429</td>\n",
              "      <td>0.923077</td>\n",
              "      <td>0.958333</td>\n",
              "      <td>0.947253</td>\n",
              "      <td>0.959341</td>\n",
              "    </tr>\n",
              "    <tr>\n",
              "      <th>precision</th>\n",
              "      <td>1.000000</td>\n",
              "      <td>0.857143</td>\n",
              "      <td>0.958333</td>\n",
              "      <td>0.928571</td>\n",
              "      <td>0.964286</td>\n",
              "    </tr>\n",
              "    <tr>\n",
              "      <th>recall</th>\n",
              "      <td>0.944444</td>\n",
              "      <td>1.000000</td>\n",
              "      <td>0.958333</td>\n",
              "      <td>0.972222</td>\n",
              "      <td>0.958333</td>\n",
              "    </tr>\n",
              "    <tr>\n",
              "      <th>support</th>\n",
              "      <td>36.000000</td>\n",
              "      <td>12.000000</td>\n",
              "      <td>48.000000</td>\n",
              "      <td>48.000000</td>\n",
              "      <td>48.000000</td>\n",
              "    </tr>\n",
              "  </tbody>\n",
              "</table>\n",
              "</div>"
            ],
            "text/plain": [
              "            Baseline    Seizure  micro avg  macro avg  weighted avg\n",
              "f1-score    0.971429   0.923077   0.958333   0.947253      0.959341\n",
              "precision   1.000000   0.857143   0.958333   0.928571      0.964286\n",
              "recall      0.944444   1.000000   0.958333   0.972222      0.958333\n",
              "support    36.000000  12.000000  48.000000  48.000000     48.000000"
            ]
          },
          "metadata": {
            "tags": []
          },
          "execution_count": 9
        }
      ]
    },
    {
      "metadata": {
        "id": "F4_h2K6OV4Tt",
        "colab_type": "text"
      },
      "cell_type": "markdown",
      "source": [
        "If we have a look at the confusion matrix for the othe methods we can see different methods are either producing similar or different errors"
      ]
    },
    {
      "metadata": {
        "id": "rjwaxvRFWCTE",
        "colab_type": "code",
        "outputId": "a1370d0a-1abe-414d-bec0-1dca9390bef8",
        "colab": {
          "base_uri": "https://localhost:8080/",
          "height": 497
        }
      },
      "cell_type": "code",
      "source": [
        "for i, classifier in enumerate(classifiers[1:]):\n",
        "  print(color.BOLD+color.UNDERLINE+classifier_names[i+1]+color.END)\n",
        "\n",
        "  predictions = classifier.predict(X_val)\n",
        "\n",
        "  confmat = confusion_matrix(y_true=y_val, y_pred=predictions)\n",
        "\n",
        "  pretty_confusion_matrix(confmat)"
      ],
      "execution_count": 10,
      "outputs": [
        {
          "output_type": "stream",
          "text": [
            "\u001b[1m\u001b[4mSupport Vector Machine\u001b[0m\n"
          ],
          "name": "stdout"
        },
        {
          "output_type": "display_data",
          "data": {
            "image/png": "[encoded data removed]",
            "text/plain": [
              "<Figure size 180x180 with 1 Axes>"
            ]
          },
          "metadata": {
            "tags": []
          }
        },
        {
          "output_type": "stream",
          "text": [
            "\u001b[1m\u001b[4mDecision Tree\u001b[0m\n"
          ],
          "name": "stdout"
        },
        {
          "output_type": "display_data",
          "data": {
            "image/png": "[encoded data removed]",
            "text/plain": [
              "<Figure size 180x180 with 1 Axes>"
            ]
          },
          "metadata": {
            "tags": []
          }
        },
        {
          "output_type": "stream",
          "text": [
            "\u001b[1m\u001b[4mK-Nearest Neighbors\u001b[0m\n"
          ],
          "name": "stdout"
        },
        {
          "output_type": "display_data",
          "data": {
            "image/png": "[encoded data removed]",
            "text/plain": [
              "<Figure size 180x180 with 1 Axes>"
            ]
          },
          "metadata": {
            "tags": []
          }
        }
      ]
    },
    {
      "metadata": {
        "id": "hh4FvdnMWOra",
        "colab_type": "text"
      },
      "cell_type": "markdown",
      "source": [
        "Lets confirm this by combining all the metrics into one dataframe to compare"
      ]
    },
    {
      "metadata": {
        "id": "eFwwMFM9WRuz",
        "colab_type": "code",
        "outputId": "75a2870e-bc14-4b93-d592-c0515eb9f28e",
        "colab": {
          "base_uri": "https://localhost:8080/",
          "height": 583
        }
      },
      "cell_type": "code",
      "source": [
        "for i, classifier in enumerate(classifiers):\n",
        "  predictions = classifier.predict(X_val)\n",
        "\n",
        "  classifier_score_df = pd.DataFrame(\n",
        "      classification_report(y_val, \n",
        "                            predictions,\n",
        "                            target_names=['Baseline', 'Seizure'],\n",
        "                            digits=2, \n",
        "                            output_dict=True))\n",
        "  \n",
        "  classifier_score_df.index.name = 'Metric'\n",
        "  classifier_score_df['Classifier'] = classifier_names[i]\n",
        "  classifier_score_df = classifier_score_df.set_index('Classifier', append=True)\n",
        "  \n",
        "  if i == 0:\n",
        "    all_scores = classifier_score_df\n",
        "\n",
        "  else:\n",
        "    all_scores = pd.concat([all_scores, classifier_score_df])\n",
        "        \n",
        "all_scores.sort_index()"
      ],
      "execution_count": 11,
      "outputs": [
        {
          "output_type": "execute_result",
          "data": {
            "text/html": [
              "<div>\n",
              "<style scoped>\n",
              "    .dataframe tbody tr th:only-of-type {\n",
              "        vertical-align: middle;\n",
              "    }\n",
              "\n",
              "    .dataframe tbody tr th {\n",
              "        vertical-align: top;\n",
              "    }\n",
              "\n",
              "    .dataframe thead th {\n",
              "        text-align: right;\n",
              "    }\n",
              "</style>\n",
              "<table border=\"1\" class=\"dataframe\">\n",
              "  <thead>\n",
              "    <tr style=\"text-align: right;\">\n",
              "      <th></th>\n",
              "      <th></th>\n",
              "      <th>Baseline</th>\n",
              "      <th>Seizure</th>\n",
              "      <th>micro avg</th>\n",
              "      <th>macro avg</th>\n",
              "      <th>weighted avg</th>\n",
              "    </tr>\n",
              "    <tr>\n",
              "      <th>Metric</th>\n",
              "      <th>Classifier</th>\n",
              "      <th></th>\n",
              "      <th></th>\n",
              "      <th></th>\n",
              "      <th></th>\n",
              "      <th></th>\n",
              "    </tr>\n",
              "  </thead>\n",
              "  <tbody>\n",
              "    <tr>\n",
              "      <th rowspan=\"4\" valign=\"top\">f1-score</th>\n",
              "      <th>Decision Tree</th>\n",
              "      <td>0.941176</td>\n",
              "      <td>0.857143</td>\n",
              "      <td>0.916667</td>\n",
              "      <td>0.899160</td>\n",
              "      <td>0.920168</td>\n",
              "    </tr>\n",
              "    <tr>\n",
              "      <th>K-Nearest Neighbors</th>\n",
              "      <td>0.945946</td>\n",
              "      <td>0.818182</td>\n",
              "      <td>0.916667</td>\n",
              "      <td>0.882064</td>\n",
              "      <td>0.914005</td>\n",
              "    </tr>\n",
              "    <tr>\n",
              "      <th>Logistic Regression</th>\n",
              "      <td>0.971429</td>\n",
              "      <td>0.923077</td>\n",
              "      <td>0.958333</td>\n",
              "      <td>0.947253</td>\n",
              "      <td>0.959341</td>\n",
              "    </tr>\n",
              "    <tr>\n",
              "      <th>Support Vector Machine</th>\n",
              "      <td>0.941176</td>\n",
              "      <td>0.857143</td>\n",
              "      <td>0.916667</td>\n",
              "      <td>0.899160</td>\n",
              "      <td>0.920168</td>\n",
              "    </tr>\n",
              "    <tr>\n",
              "      <th rowspan=\"4\" valign=\"top\">precision</th>\n",
              "      <th>Decision Tree</th>\n",
              "      <td>1.000000</td>\n",
              "      <td>0.750000</td>\n",
              "      <td>0.916667</td>\n",
              "      <td>0.875000</td>\n",
              "      <td>0.937500</td>\n",
              "    </tr>\n",
              "    <tr>\n",
              "      <th>K-Nearest Neighbors</th>\n",
              "      <td>0.921053</td>\n",
              "      <td>0.900000</td>\n",
              "      <td>0.916667</td>\n",
              "      <td>0.910526</td>\n",
              "      <td>0.915789</td>\n",
              "    </tr>\n",
              "    <tr>\n",
              "      <th>Logistic Regression</th>\n",
              "      <td>1.000000</td>\n",
              "      <td>0.857143</td>\n",
              "      <td>0.958333</td>\n",
              "      <td>0.928571</td>\n",
              "      <td>0.964286</td>\n",
              "    </tr>\n",
              "    <tr>\n",
              "      <th>Support Vector Machine</th>\n",
              "      <td>1.000000</td>\n",
              "      <td>0.750000</td>\n",
              "      <td>0.916667</td>\n",
              "      <td>0.875000</td>\n",
              "      <td>0.937500</td>\n",
              "    </tr>\n",
              "    <tr>\n",
              "      <th rowspan=\"4\" valign=\"top\">recall</th>\n",
              "      <th>Decision Tree</th>\n",
              "      <td>0.888889</td>\n",
              "      <td>1.000000</td>\n",
              "      <td>0.916667</td>\n",
              "      <td>0.944444</td>\n",
              "      <td>0.916667</td>\n",
              "    </tr>\n",
              "    <tr>\n",
              "      <th>K-Nearest Neighbors</th>\n",
              "      <td>0.972222</td>\n",
              "      <td>0.750000</td>\n",
              "      <td>0.916667</td>\n",
              "      <td>0.861111</td>\n",
              "      <td>0.916667</td>\n",
              "    </tr>\n",
              "    <tr>\n",
              "      <th>Logistic Regression</th>\n",
              "      <td>0.944444</td>\n",
              "      <td>1.000000</td>\n",
              "      <td>0.958333</td>\n",
              "      <td>0.972222</td>\n",
              "      <td>0.958333</td>\n",
              "    </tr>\n",
              "    <tr>\n",
              "      <th>Support Vector Machine</th>\n",
              "      <td>0.888889</td>\n",
              "      <td>1.000000</td>\n",
              "      <td>0.916667</td>\n",
              "      <td>0.944444</td>\n",
              "      <td>0.916667</td>\n",
              "    </tr>\n",
              "    <tr>\n",
              "      <th rowspan=\"4\" valign=\"top\">support</th>\n",
              "      <th>Decision Tree</th>\n",
              "      <td>36.000000</td>\n",
              "      <td>12.000000</td>\n",
              "      <td>48.000000</td>\n",
              "      <td>48.000000</td>\n",
              "      <td>48.000000</td>\n",
              "    </tr>\n",
              "    <tr>\n",
              "      <th>K-Nearest Neighbors</th>\n",
              "      <td>36.000000</td>\n",
              "      <td>12.000000</td>\n",
              "      <td>48.000000</td>\n",
              "      <td>48.000000</td>\n",
              "      <td>48.000000</td>\n",
              "    </tr>\n",
              "    <tr>\n",
              "      <th>Logistic Regression</th>\n",
              "      <td>36.000000</td>\n",
              "      <td>12.000000</td>\n",
              "      <td>48.000000</td>\n",
              "      <td>48.000000</td>\n",
              "      <td>48.000000</td>\n",
              "    </tr>\n",
              "    <tr>\n",
              "      <th>Support Vector Machine</th>\n",
              "      <td>36.000000</td>\n",
              "      <td>12.000000</td>\n",
              "      <td>48.000000</td>\n",
              "      <td>48.000000</td>\n",
              "      <td>48.000000</td>\n",
              "    </tr>\n",
              "  </tbody>\n",
              "</table>\n",
              "</div>"
            ],
            "text/plain": [
              "                                   Baseline    Seizure  micro avg  macro avg  \\\n",
              "Metric    Classifier                                                           \n",
              "f1-score  Decision Tree            0.941176   0.857143   0.916667   0.899160   \n",
              "          K-Nearest Neighbors      0.945946   0.818182   0.916667   0.882064   \n",
              "          Logistic Regression      0.971429   0.923077   0.958333   0.947253   \n",
              "          Support Vector Machine   0.941176   0.857143   0.916667   0.899160   \n",
              "precision Decision Tree            1.000000   0.750000   0.916667   0.875000   \n",
              "          K-Nearest Neighbors      0.921053   0.900000   0.916667   0.910526   \n",
              "          Logistic Regression      1.000000   0.857143   0.958333   0.928571   \n",
              "          Support Vector Machine   1.000000   0.750000   0.916667   0.875000   \n",
              "recall    Decision Tree            0.888889   1.000000   0.916667   0.944444   \n",
              "          K-Nearest Neighbors      0.972222   0.750000   0.916667   0.861111   \n",
              "          Logistic Regression      0.944444   1.000000   0.958333   0.972222   \n",
              "          Support Vector Machine   0.888889   1.000000   0.916667   0.944444   \n",
              "support   Decision Tree           36.000000  12.000000  48.000000  48.000000   \n",
              "          K-Nearest Neighbors     36.000000  12.000000  48.000000  48.000000   \n",
              "          Logistic Regression     36.000000  12.000000  48.000000  48.000000   \n",
              "          Support Vector Machine  36.000000  12.000000  48.000000  48.000000   \n",
              "\n",
              "                                  weighted avg  \n",
              "Metric    Classifier                            \n",
              "f1-score  Decision Tree               0.920168  \n",
              "          K-Nearest Neighbors         0.914005  \n",
              "          Logistic Regression         0.959341  \n",
              "          Support Vector Machine      0.920168  \n",
              "precision Decision Tree               0.937500  \n",
              "          K-Nearest Neighbors         0.915789  \n",
              "          Logistic Regression         0.964286  \n",
              "          Support Vector Machine      0.937500  \n",
              "recall    Decision Tree               0.916667  \n",
              "          K-Nearest Neighbors         0.916667  \n",
              "          Logistic Regression         0.958333  \n",
              "          Support Vector Machine      0.916667  \n",
              "support   Decision Tree              48.000000  \n",
              "          K-Nearest Neighbors        48.000000  \n",
              "          Logistic Regression        48.000000  \n",
              "          Support Vector Machine     48.000000  "
            ]
          },
          "metadata": {
            "tags": []
          },
          "execution_count": 11
        }
      ]
    },
    {
      "metadata": {
        "id": "ijOdUcuSXHY7",
        "colab_type": "text"
      },
      "cell_type": "markdown",
      "source": [
        "## Receiver Operating Characteristic (ROC) Curve\n",
        "\n",
        "We can also use plots to visualise each models performance. \n",
        "\n",
        "ROC curves are useful for comparing classification models based on their false positive and true positive rate performance. A ROC curve is computed by shifting the decision threshold of the classifier<sup>1</sup>.\n",
        "\n",
        "**NOTES**\n",
        "- For the SVM, probability needs to be true\n",
        "\n",
        "---\n",
        "\n",
        "1. Raschka, Sebastian, and Vahid Mirjalili. Python Machine Learning, 2nd Ed. Packt Publishing, 2017."
      ]
    },
    {
      "metadata": {
        "id": "N8vs4FmmXNtQ",
        "colab_type": "code",
        "outputId": "16ea0976-6eba-469a-8857-ff960d57482c",
        "colab": {
          "base_uri": "https://localhost:8080/",
          "height": 297
        }
      },
      "cell_type": "code",
      "source": [
        "from sklearn.metrics import roc_curve, roc_auc_score, auc\n",
        "from sklearn.externals import joblib\n",
        "import re\n",
        "\n",
        "def ROC(classifiers, classifier_names, X_train, \n",
        "        X_val, y_train, y_val, image_file_path):\n",
        "  \n",
        "  # for each classifier...\n",
        "  for i, classifer in enumerate(classifiers):\n",
        "    # fit the pipeline\n",
        "    probas = classifer.fit(X_train,\n",
        "                                y_train).predict_proba(X_val)\n",
        "\n",
        "    # get the roc curve info\n",
        "    fpr, tpr, thresholds = roc_curve(y_val, \n",
        "                                     probas[:, 1], \n",
        "                                     pos_label=1)\n",
        "\n",
        "    roc_auc = auc(fpr, tpr)\n",
        "\n",
        "    plt.plot(fpr, \n",
        "             tpr, \n",
        "             lw=1, \n",
        "             label='{} (area = %0.2f)'.format(classifier_names[i]) %roc_auc)\n",
        "\n",
        "  plt.plot([0, 1], \n",
        "           [0, 1], \n",
        "           linestyle='--', \n",
        "           color=(0.6, 0.6, 0.6), \n",
        "           label='random guessing')\n",
        "\n",
        "  plt.plot([0, 0, 1], \n",
        "           [0, 1, 1], \n",
        "           lw=2, \n",
        "           linestyle=':', \n",
        "           color='black', \n",
        "           label='perfect performance')\n",
        "\n",
        "  plt.xlim([-0.05, 1.05])\n",
        "  plt.ylim([-0.05, 1.05])\n",
        "  plt.xlabel('false positive rate')\n",
        "  plt.ylabel('true positive rate')\n",
        "  plt.title('Receiver Operator Characteristic on Validation Set')\n",
        "  plt.legend(loc=\"lower right\", fontsize ='small')\n",
        "\n",
        "  plt.tight_layout()\n",
        "  plt.savefig(image_file_path, dpi=300)\n",
        "  plt.show()    \n",
        "    \n",
        "\n",
        "ROC(classifiers, classifier_names, X_train, X_val, y_train, \n",
        "    y_val, 'Classifiers_ROC.png')"
      ],
      "execution_count": 12,
      "outputs": [
        {
          "output_type": "display_data",
          "data": {
            "image/png": "[encoded data removed]",
            "text/plain": [
              "<Figure size 432x288 with 1 Axes>"
            ]
          },
          "metadata": {
            "tags": []
          }
        }
      ]
    },
    {
      "metadata": {
        "id": "IjuwnvLqXp6Q",
        "colab_type": "text"
      },
      "cell_type": "markdown",
      "source": [
        "## Precision-recall Curve\n",
        "\n",
        "To explain precision-recall curves the Scikit-learn documentation is pretty useful (as seen below):\n",
        "\n",
        "> *\"The precision-recall curve shows the tradeoff between precision and recall for different threshold. A high area under the curve represents both high recall and high precision, where high precision relates to a low false positive rate, and high recall relates to a low false negative rate. High scores for both show that the classifier is returning accurate results (high precision), as well as returning a majority of all positive results (high recall).*\n",
        "\n",
        "> *A system with high recall but low precision returns many results, but most of its predicted labels are incorrect when compared to the training labels. A system with high precision but low recall is just the opposite, returning very few results, but most of its predicted labels are correct when compared to the training labels. An ideal system with high precision and high recall will return many results, with all results labeled correctly.\"*<sup>1</sup>\n",
        "\n",
        "PR curves are useful in unballanced datasets, such as when the positive class is rare, or when false positives are more important than false negatives; otherwise a ROC curve is generally more useful<sup>2<sup>.\n",
        "\n",
        "**Note**\n",
        "- Precision Curves only work with classifiers that have a decision_function such as SVM\n",
        "  \n",
        "---\n",
        "1. https://scikit-learn.org/stable/auto_examples/model_selection/plot_precision_recall.html\n",
        "2. Géron, A. (2017). Hands-on machine learning with Scikit-Learn and TensorFlow: concepts, tools, and techniques to build intelligent systems. \" O'Reilly Media, Inc.\"."
      ]
    },
    {
      "metadata": {
        "id": "ONo-uFJQXqgQ",
        "colab_type": "code",
        "outputId": "ebde868a-3d37-4081-e135-efc41be6d157",
        "colab": {
          "base_uri": "https://localhost:8080/",
          "height": 297
        }
      },
      "cell_type": "code",
      "source": [
        "from sklearn.metrics import precision_recall_curve\n",
        "from sklearn.utils.fixes import signature\n",
        "from sklearn.externals import joblib\n",
        "from sklearn.metrics import average_precision_score\n",
        "\n",
        "def Precision_Curve(classifier_list, classifier_names, X_train, \n",
        "                    X_val, y_train, y_val, image_file_path):\n",
        "\n",
        "  # for each classifier...\n",
        "  for i, classifer_ in enumerate(classifier_list):\n",
        "\n",
        "      y_score = classifer_.decision_function(X_val)\n",
        "\n",
        "      precision, recall, _ = precision_recall_curve(y_val, y_score)\n",
        "\n",
        "      average_precision = average_precision_score(y_val, y_score)\n",
        "\n",
        "      plt.step(recall, precision, alpha=0.2, where='post', \n",
        "               label=classifier_names[i]+' PREC = %0.2f'% average_precision)\n",
        "\n",
        "  plt.xlabel('Recall')\n",
        "  plt.ylabel('Precision')\n",
        "  plt.ylim([0.0, 1.05])\n",
        "  plt.xlim([0.0, 1.0])\n",
        "  plt.title('Precision-Recall curve on Validation Set')\n",
        "  plt.legend(loc=\"lower right\")\n",
        "\n",
        "  plt.tight_layout()\n",
        "  plt.savefig(image_file_path, dpi=300)\n",
        "  plt.show()\n",
        "\n",
        "Precision_Curve(classifiers[:2], classifier_names[:2], X_train, X_val, \n",
        "                y_train, y_val, 'Classifiers_PREC.png')"
      ],
      "execution_count": 13,
      "outputs": [
        {
          "output_type": "display_data",
          "data": {
            "image/png": "[encoded data removed]",
            "text/plain": [
              "<Figure size 432x288 with 1 Axes>"
            ]
          },
          "metadata": {
            "tags": []
          }
        }
      ]
    },
    {
      "metadata": {
        "id": "KqHBqHdmZYOH",
        "colab_type": "text"
      },
      "cell_type": "markdown",
      "source": [
        "## Learning Curve\n",
        "\n",
        "Learning curves can be used to see if an algorithm has a problem with overfitting (high variance) or underfitting (high bias) to the training data. It could be that the model is too complex for the training dataset leading it to not generalize well to unseen data. We can plot the degree to which a model is over/under-fitting to the training data as we add in more training data. What we are looking for is that as the number of training samples increases the chosen scoring metrics for the training and test sets get closer together.\n",
        "\n",
        "What these curves are telling us about our model is that are likely overfitting to the training data. To address this we could<sup>1</sup>:\n",
        "- collect more training data\n",
        "- reduce the complexity of the model\n",
        "- increase the regularization parameter\n",
        "- decrease the number of features via feature selection or feature extraction (Classification 05 Tutorial)\n",
        "\n",
        "**NOTES**\n",
        "- for the plotting I'm using a package called mlxtend<sup>2</sup>\n",
        "\n",
        "---\n",
        "\n",
        "1. Raschka, Sebastian, and Vahid Mirjalili. Python Machine Learning, 2nd Ed. Packt Publishing, 2017.\n",
        "\n",
        "2. Raschka, Sebastian. Mlxtend(Version 0.13.0). doi = 10.5281/zenodo.594432, url = http://dx.doi.org/10.5281/zenodo.594432"
      ]
    },
    {
      "metadata": {
        "id": "vHoZ512XZbXW",
        "colab_type": "code",
        "outputId": "bb9e87ad-2060-4d68-f81d-739321a06f3f",
        "colab": {
          "base_uri": "https://localhost:8080/",
          "height": 610
        }
      },
      "cell_type": "code",
      "source": [
        "from mlxtend.plotting import plot_learning_curves\n",
        "\n",
        "learning_curve_scoring = ['accuracy', 'precision']\n",
        "\n",
        "\n",
        "print(color.BOLD+color.UNDERLINE+classifier_names[1]+color.END)\n",
        "for scoring_method in learning_curve_scoring:\n",
        "  plot_learning_curves(X_train, y_train, X_val, y_val, classifiers[1], \n",
        "                       train_marker='o', test_marker='^', \n",
        "                       scoring=scoring_method, print_model =False)\n",
        "  if scoring_method in ['accuracy', 'precision']:\n",
        "      plt.ylim(top=1.01)\n",
        "  plt.show()"
      ],
      "execution_count": 14,
      "outputs": [
        {
          "output_type": "stream",
          "text": [
            "\u001b[1m\u001b[4mSupport Vector Machine\u001b[0m\n"
          ],
          "name": "stdout"
        },
        {
          "output_type": "display_data",
          "data": {
            "image/png": "[encoded data removed]",
            "text/plain": [
              "<Figure size 432x288 with 1 Axes>"
            ]
          },
          "metadata": {
            "tags": []
          }
        },
        {
          "output_type": "display_data",
          "data": {
            "image/png": "[encoded data removed]",
            "text/plain": [
              "<Figure size 432x288 with 1 Axes>"
            ]
          },
          "metadata": {
            "tags": []
          }
        }
      ]
    },
    {
      "metadata": {
        "id": "jfzmppb-YAcH",
        "colab_type": "text"
      },
      "cell_type": "markdown",
      "source": [
        "## Cross-Validation\n",
        "\n",
        "So far we have only assessed our models performance on splitting our data into training, validation, and test sets (the holdout method). The validation set is used during training and setting hyperparameters, and the test set can be used once a final model is selected for final performance evaluation<sup>1</sup>. This is a popular approach to generalization performance, however as we will see, we can't keep using the same validation set when trying different hyperparameters as the model will be more likely to over-fit to the current data and be less generalisable when deployed in the real world.\n",
        "\n",
        "So first lets split our data back into training and test sets.\n",
        "\n",
        "---\n",
        "\n",
        "1. Raschka, Sebastian, and Vahid Mirjalili. Python Machine Learning, 2nd Ed. Packt Publishing, 2017."
      ]
    },
    {
      "metadata": {
        "id": "PYp2Qn7AYqOf",
        "colab_type": "code",
        "colab": {}
      },
      "cell_type": "code",
      "source": [
        "X_train, X_test, y_train, y_test = train_test_split(data_x, \n",
        "                                                    data_y, \n",
        "                                                    test_size=TEST_SIZE, \n",
        "                                                    random_state=RANDOM_STATE)"
      ],
      "execution_count": 0,
      "outputs": []
    },
    {
      "metadata": {
        "id": "LawbRSrYY3PB",
        "colab_type": "text"
      },
      "cell_type": "markdown",
      "source": [
        "### K-Fold Cross-Validation\n",
        "\n",
        "There is a disadvantage to the holdout method, as where the splits of the training, validation, and test sets are will effect performance. Therefore a more robust technique is to split the training data into multipule training and validation sets (e.g. K-Fold Cross-Validation). We randomly split the training set into *k* folds without replacement so *k*-1 folds are used for model training with one fold used for performance evaluation. As this is repeated *k* times we get *k* models and performance estimates, of which the average performance is taken. As the k-fold cross-validation resamples without replacement, each sample point will have been used in both the training and validation sets once<sup>1</sup>.\n",
        "\n",
        "A good default value for K is 10, however if the training sets are small it may be better to increase the number of folds, and if the data is large reduce it<sup>2</sup>.\n",
        "\n",
        "First I will show how it splits up data. This code could be used for analysis but is not as efficient as the subsequent block. As such I'll keep the number of splits and repeats low to demonstrate.\n",
        "\n",
        "---\n",
        "\n",
        "1. Raschka, Sebastian, and Vahid Mirjalili. Python Machine Learning, 2nd Ed. Packt Publishing, 2017.\n",
        "\n",
        "2. R. Kohavi et al. A Study of Cross-validation and Bootstrap for Accuracy Estimation and Model Selection. In Ijcai, volume 14, pages 1137–1145, 1995"
      ]
    },
    {
      "metadata": {
        "id": "AhB8FSmjZFBw",
        "colab_type": "code",
        "outputId": "f1afcec1-723d-485d-e9c5-75cdb676f55e",
        "colab": {
          "base_uri": "https://localhost:8080/",
          "height": 1540
        }
      },
      "cell_type": "code",
      "source": [
        "%%time\n",
        "import numpy as np\n",
        "from sklearn.model_selection import RepeatedKFold\n",
        "from sklearn.base import clone\n",
        "\n",
        "N_SPLITS = 2\n",
        "N_REPEATS = 2\n",
        "\n",
        "RepKFold = RepeatedKFold(n_splits = N_SPLITS,\n",
        "                         n_repeats = N_REPEATS,\n",
        "                         random_state=RANDOM_STATE)\n",
        "\n",
        "scores = []\n",
        "i = 0\n",
        "for train_index, validation_index in RepKFold.split(X_train, y_train):\n",
        "  clone_clf = clone(pipe_reg)\n",
        "\n",
        "  clone_clf.fit(X_train[train_index], y_train[train_index])\n",
        "  score = clone_clf.score(X_train[validation_index], y_train[validation_index])\n",
        "  scores.append(score)\n",
        "\n",
        "  print(color.BOLD+color.UNDERLINE+'Fold '+str(i+1)+color.END)\n",
        "  print('Class dist.: %s, Acc: %.3f' % (np.bincount(y_train[train_index]), score))\n",
        "  print(\"\\nTRAIN:\", train_index)\n",
        "  print(\"\\nVALIDATION:\", validation_index)\n",
        "  print()\n",
        "  i+=1\n",
        "    \n",
        "print('\\nCV accuracy: %.3f +/- %.3f' % (np.mean(scores), np.std(scores)))"
      ],
      "execution_count": 16,
      "outputs": [
        {
          "output_type": "stream",
          "text": [
            "\u001b[1m\u001b[4mFold 1\u001b[0m\n",
            "Class dist.: [80 40], Acc: 0.933\n",
            "\n",
            "TRAIN: [  0   1   2   6   9  10  11  17  21  23  25  28  29  31  32  34  35  36\n",
            "  38  39  42  43  47  48  49  53  57  58  59  65  67  68  69  70  72  77\n",
            "  78  79  81  82  84  85  87  88  91  93  94  95  98  99 100 102 103 105\n",
            " 112 113 114 115 117 119 120 121 127 128 131 132 133 137 140 141 142 143\n",
            " 146 147 148 150 151 160 163 164 165 167 172 173 174 175 177 180 182 183\n",
            " 185 186 187 189 190 192 193 195 196 197 198 200 203 204 205 207 208 211\n",
            " 212 216 222 223 224 225 228 229 232 236 237 238]\n",
            "\n",
            "VALIDATION: [  3   4   5   7   8  12  13  14  15  16  18  19  20  22  24  26  27  30\n",
            "  33  37  40  41  44  45  46  50  51  52  54  55  56  60  61  62  63  64\n",
            "  66  71  73  74  75  76  80  83  86  89  90  92  96  97 101 104 106 107\n",
            " 108 109 110 111 116 118 122 123 124 125 126 129 130 134 135 136 138 139\n",
            " 144 145 149 152 153 154 155 156 157 158 159 161 162 166 168 169 170 171\n",
            " 176 178 179 181 184 188 191 194 199 201 202 206 209 210 213 214 215 217\n",
            " 218 219 220 221 226 227 230 231 233 234 235 239]\n",
            "\n",
            "\u001b[1m\u001b[4mFold 2\u001b[0m\n",
            "Class dist.: [80 40], Acc: 0.950\n",
            "\n",
            "TRAIN: [  3   4   5   7   8  12  13  14  15  16  18  19  20  22  24  26  27  30\n",
            "  33  37  40  41  44  45  46  50  51  52  54  55  56  60  61  62  63  64\n",
            "  66  71  73  74  75  76  80  83  86  89  90  92  96  97 101 104 106 107\n",
            " 108 109 110 111 116 118 122 123 124 125 126 129 130 134 135 136 138 139\n",
            " 144 145 149 152 153 154 155 156 157 158 159 161 162 166 168 169 170 171\n",
            " 176 178 179 181 184 188 191 194 199 201 202 206 209 210 213 214 215 217\n",
            " 218 219 220 221 226 227 230 231 233 234 235 239]\n",
            "\n",
            "VALIDATION: [  0   1   2   6   9  10  11  17  21  23  25  28  29  31  32  34  35  36\n",
            "  38  39  42  43  47  48  49  53  57  58  59  65  67  68  69  70  72  77\n",
            "  78  79  81  82  84  85  87  88  91  93  94  95  98  99 100 102 103 105\n",
            " 112 113 114 115 117 119 120 121 127 128 131 132 133 137 140 141 142 143\n",
            " 146 147 148 150 151 160 163 164 165 167 172 173 174 175 177 180 182 183\n",
            " 185 186 187 189 190 192 193 195 196 197 198 200 203 204 205 207 208 211\n",
            " 212 216 222 223 224 225 228 229 232 236 237 238]\n",
            "\n",
            "\u001b[1m\u001b[4mFold 3\u001b[0m\n",
            "Class dist.: [86 34], Acc: 0.958\n",
            "\n",
            "TRAIN: [  0   2   3   5   8   9  11  13  14  16  17  18  20  22  24  25  27  28\n",
            "  29  30  31  32  33  34  35  36  39  41  43  44  46  51  53  58  61  63\n",
            "  64  66  67  68  69  72  73  79  80  81  83  84  85  87  88  89  91  92\n",
            "  93  94  97 101 103 105 106 108 111 112 114 116 117 120 122 123 126 128\n",
            " 129 131 133 136 138 140 143 145 146 147 149 150 151 152 158 160 162 164\n",
            " 166 167 168 173 176 178 181 187 189 190 195 196 197 198 199 200 201 202\n",
            " 203 206 214 215 217 218 220 221 223 224 225 239]\n",
            "\n",
            "VALIDATION: [  1   4   6   7  10  12  15  19  21  23  26  37  38  40  42  45  47  48\n",
            "  49  50  52  54  55  56  57  59  60  62  65  70  71  74  75  76  77  78\n",
            "  82  86  90  95  96  98  99 100 102 104 107 109 110 113 115 118 119 121\n",
            " 124 125 127 130 132 134 135 137 139 141 142 144 148 153 154 155 156 157\n",
            " 159 161 163 165 169 170 171 172 174 175 177 179 180 182 183 184 185 186\n",
            " 188 191 192 193 194 204 205 207 208 209 210 211 212 213 216 219 222 226\n",
            " 227 228 229 230 231 232 233 234 235 236 237 238]\n",
            "\n",
            "\u001b[1m\u001b[4mFold 4\u001b[0m\n",
            "Class dist.: [74 46], Acc: 0.983\n",
            "\n",
            "TRAIN: [  1   4   6   7  10  12  15  19  21  23  26  37  38  40  42  45  47  48\n",
            "  49  50  52  54  55  56  57  59  60  62  65  70  71  74  75  76  77  78\n",
            "  82  86  90  95  96  98  99 100 102 104 107 109 110 113 115 118 119 121\n",
            " 124 125 127 130 132 134 135 137 139 141 142 144 148 153 154 155 156 157\n",
            " 159 161 163 165 169 170 171 172 174 175 177 179 180 182 183 184 185 186\n",
            " 188 191 192 193 194 204 205 207 208 209 210 211 212 213 216 219 222 226\n",
            " 227 228 229 230 231 232 233 234 235 236 237 238]\n",
            "\n",
            "VALIDATION: [  0   2   3   5   8   9  11  13  14  16  17  18  20  22  24  25  27  28\n",
            "  29  30  31  32  33  34  35  36  39  41  43  44  46  51  53  58  61  63\n",
            "  64  66  67  68  69  72  73  79  80  81  83  84  85  87  88  89  91  92\n",
            "  93  94  97 101 103 105 106 108 111 112 114 116 117 120 122 123 126 128\n",
            " 129 131 133 136 138 140 143 145 146 147 149 150 151 152 158 160 162 164\n",
            " 166 167 168 173 176 178 181 187 189 190 195 196 197 198 199 200 201 202\n",
            " 203 206 214 215 217 218 220 221 223 224 225 239]\n",
            "\n",
            "\n",
            "CV accuracy: 0.956 +/- 0.018\n",
            "CPU times: user 22.1 ms, sys: 3.25 ms, total: 25.3 ms\n",
            "Wall time: 24.9 ms\n"
          ],
          "name": "stdout"
        }
      ]
    },
    {
      "metadata": {
        "id": "sKe-92q7ZWj1",
        "colab_type": "text"
      },
      "cell_type": "markdown",
      "source": [
        "However rather than manually doing it like above, we can instead use a function such as cross_val_score which allows for doing computation in parallel (n_jobs=-1)."
      ]
    },
    {
      "metadata": {
        "id": "OVdhyLoWZXJn",
        "colab_type": "code",
        "outputId": "c2de06d2-e0a9-48fd-ec3e-c00a2a23974c",
        "colab": {
          "base_uri": "https://localhost:8080/",
          "height": 93
        }
      },
      "cell_type": "code",
      "source": [
        "%%time\n",
        "from sklearn.model_selection import cross_val_score\n",
        "from sklearn.metrics import make_scorer\n",
        "\n",
        "SCORER = make_scorer(score_func=accuracy_score)\n",
        "\n",
        "scores = cross_val_score(estimator=pipe_reg, \n",
        "                         X=X_train, \n",
        "                         y=y_train, \n",
        "                         scoring = SCORER,\n",
        "                         cv=RepKFold,\n",
        "                         n_jobs=-1)\n",
        "\n",
        "print('CV accuracy scores: %s' % scores)\n",
        "print('CV accuracy: %.3f +/- %.3f' % (np.mean(scores), np.std(scores)))"
      ],
      "execution_count": 17,
      "outputs": [
        {
          "output_type": "stream",
          "text": [
            "CV accuracy scores: [0.93333333 0.95       0.95833333 0.98333333]\n",
            "CV accuracy: 0.956 +/- 0.018\n",
            "CPU times: user 28.5 ms, sys: 24.3 ms, total: 52.8 ms\n",
            "Wall time: 1.32 s\n"
          ],
          "name": "stdout"
        }
      ]
    },
    {
      "metadata": {
        "id": "4HUhUw3CZrTv",
        "colab_type": "text"
      },
      "cell_type": "markdown",
      "source": [
        "### Stratified K-Fold Cross-Validation\n",
        "\n",
        "We can also use stratified k-fold cross-validation, as it can yield better bias and variance estimates in cases of unequal class proportions than RepeatedKFold<sup>1,2</sup>. This is because \"stratified\" refers to sampling where the classes are separated into \"strata\" and a probability sample is drawn from each group<sup>3</sup>.\n",
        "\n",
        "As can be seen below we have twice as much baseline data (inter-ictal) than seizure (ictal).\n",
        "\n",
        "---\n",
        "1. Raschka, Sebastian, and Vahid Mirjalili. Python Machine Learning, 2nd Ed. Packt Publishing, 2017.\n",
        "2. R. Kohavi et al. A Study of Cross-validation and Bootstrap for Accuracy Estimation and Model Selection. In Ijcai, volume 14, pages 1137–1145, 1995\n",
        "3. https://stattrek.com/statistics/dictionary.aspx?definition=stratified_sampling"
      ]
    },
    {
      "metadata": {
        "id": "m9rcFAB1Z1i_",
        "colab_type": "code",
        "outputId": "e9fa12a3-f455-4e26-fb07-7ce673b485f5",
        "colab": {
          "base_uri": "https://localhost:8080/",
          "height": 74
        }
      },
      "cell_type": "code",
      "source": [
        "feature_reduced['class'].value_counts()"
      ],
      "execution_count": 18,
      "outputs": [
        {
          "output_type": "execute_result",
          "data": {
            "text/plain": [
              "baseline    200\n",
              "seizure     100\n",
              "Name: class, dtype: int64"
            ]
          },
          "metadata": {
            "tags": []
          },
          "execution_count": 18
        }
      ]
    },
    {
      "metadata": {
        "id": "whkscWc4Z4ev",
        "colab_type": "code",
        "outputId": "5b221a7f-2eb5-4950-9ac4-a9af45410b8c",
        "colab": {
          "base_uri": "https://localhost:8080/",
          "height": 74
        }
      },
      "cell_type": "code",
      "source": [
        "from sklearn.model_selection import StratifiedKFold\n",
        "N_SPLITS = 10\n",
        "\n",
        "StratKFold = StratifiedKFold(n_splits = N_SPLITS,\n",
        "                             shuffle=False,\n",
        "                             random_state=RANDOM_STATE)\n",
        "\n",
        "scores = cross_val_score(estimator=pipe_reg, \n",
        "                         X=X_train, \n",
        "                         y=y_train, \n",
        "                         scoring = SCORER,\n",
        "                         cv=StratKFold,\n",
        "                         n_jobs=-1)\n",
        "\n",
        "print('CV accuracy scores: %s' % scores)\n",
        "print('CV accuracy: %.3f +/- %.3f' % (np.mean(scores), np.std(scores)))"
      ],
      "execution_count": 19,
      "outputs": [
        {
          "output_type": "stream",
          "text": [
            "CV accuracy scores: [1.         1.         0.91666667 0.95833333 1.         1.\n",
            " 1.         0.91666667 1.         0.95833333]\n",
            "CV accuracy: 0.975 +/- 0.033\n"
          ],
          "name": "stdout"
        }
      ]
    },
    {
      "metadata": {
        "id": "iy8rODmLZ32A",
        "colab_type": "text"
      },
      "cell_type": "markdown",
      "source": [
        "### Cross-Validation ROC Curve\n",
        "\n",
        "ROC curves can also be used to see the difference in performance at each fold. Lets look at k-nearest neighbour."
      ]
    },
    {
      "metadata": {
        "id": "LcuC6y5baU_Q",
        "colab_type": "code",
        "outputId": "33ced1cf-a944-4ab4-9b1a-86d0bb93b663",
        "colab": {
          "base_uri": "https://localhost:8080/",
          "height": 297
        }
      },
      "cell_type": "code",
      "source": [
        "from sklearn.metrics import roc_curve, roc_auc_score, auc\n",
        "from scipy import interp\n",
        "\n",
        "def cross_val_ROC(classifier, cross_validator, data_x, data_y, n_splits, \n",
        "                  image_file_path):\n",
        "\n",
        "  # default mean true positive rate\n",
        "  mean_tpr = 0.0\n",
        "  # default mean false positive rate\n",
        "  mean_fpr = np.linspace(0, 1, 100)\n",
        "\n",
        "  i = 0\n",
        "  for train_index, validation_index in cross_validator.split(data_x, data_y):\n",
        "    # fit the pipeline\n",
        "    probas = classifier.fit(\n",
        "        data_x[train_index],\n",
        "        data_y[train_index]).predict_proba(data_x[validation_index])\n",
        "\n",
        "    # get the roc curve info\n",
        "    fpr, tpr, thresholds = roc_curve(data_y[validation_index], \n",
        "                                     probas[:, 1], \n",
        "                                     pos_label=1)\n",
        "\n",
        "    mean_tpr += interp(mean_fpr, fpr, tpr)\n",
        "    mean_tpr[0] = 0.0\n",
        "    roc_auc = auc(fpr, tpr)\n",
        "    i+=1\n",
        "    plt.plot(fpr, \n",
        "             tpr, \n",
        "             lw=1, \n",
        "             label='ROC fold %d (area = %0.2f)' \n",
        "                    % (i, roc_auc))\n",
        "\n",
        "  plt.plot([0, 1], \n",
        "           [0, 1], \n",
        "           linestyle='--', \n",
        "           color=(0.6, 0.6, 0.6), \n",
        "           label='random guessing')\n",
        "\n",
        "  mean_tpr /= n_splits\n",
        "  mean_tpr[-1] = 1.0\n",
        "  mean_auc = auc(mean_fpr, mean_tpr)\n",
        "  plt.plot(mean_fpr, mean_tpr, 'k--',\n",
        "           label='mean ROC (area = %0.2f)' % mean_auc, lw=2)\n",
        "  plt.plot([0, 0, 1], \n",
        "           [0, 1, 1], \n",
        "           lw=2, \n",
        "           linestyle=':', \n",
        "           color='black', \n",
        "           label='perfect performance')\n",
        "\n",
        "  plt.xlim([-0.05, 1.05])\n",
        "  plt.ylim([-0.05, 1.05])\n",
        "  plt.xlabel('false positive rate')\n",
        "  plt.ylabel('true positive rate')\n",
        "  plt.title('Receiver Operator Characteristic on Test Set ('\n",
        "            +str(n_splits)+' StratifiedKFold splits)')\n",
        "  plt.legend(loc=\"lower right\")\n",
        "\n",
        "  plt.tight_layout()\n",
        "  plt.savefig(image_file_path, dpi=300)\n",
        "  plt.show()\n",
        "\n",
        "cross_val_ROC(pipe_kkn, StratKFold, X_train, y_train, N_SPLITS, 'KNN_ROC.png')"
      ],
      "execution_count": 20,
      "outputs": [
        {
          "output_type": "display_data",
          "data": {
            "image/png": "[encoded data removed]",
            "text/plain": [
              "<Figure size 432x288 with 1 Axes>"
            ]
          },
          "metadata": {
            "tags": []
          }
        }
      ]
    },
    {
      "metadata": {
        "id": "6Fh0lUXWbEhh",
        "colab_type": "text"
      },
      "cell_type": "markdown",
      "source": [
        "### Cross-Validation Precision Curve\n",
        "\n",
        "We can also use the precision curves on each fold as well."
      ]
    },
    {
      "metadata": {
        "id": "ejvABN6hbD8h",
        "colab_type": "code",
        "outputId": "284a6f65-4e90-4c97-ddba-634ecf58d1a6",
        "colab": {
          "base_uri": "https://localhost:8080/",
          "height": 297
        }
      },
      "cell_type": "code",
      "source": [
        "from sklearn.metrics import precision_recall_curve\n",
        "from sklearn.utils.fixes import signature\n",
        "from sklearn.externals import joblib\n",
        "from sklearn.metrics import average_precision_score\n",
        "\n",
        "def cross_val_precision_curve(classifier, cross_validator, data_x, data_y, \n",
        "                              n_splits, image_file_path):\n",
        "  # default mean true positive rate\n",
        "  mean_tpr = 0.0\n",
        "  # default mean false positive rate\n",
        "  mean_fpr = np.linspace(0, 1, 100)\n",
        "\n",
        "  i = 0\n",
        "  for train_index, validation_index in cross_validator.split(data_x, data_y):\n",
        "\n",
        "    # fit the pipeline\n",
        "    classifier.fit(data_x[train_index],data_y[train_index])\n",
        "\n",
        "    y_score = classifier.decision_function(data_x[validation_index])\n",
        "\n",
        "    precision, recall, _ = precision_recall_curve(data_y[validation_index], y_score)\n",
        "\n",
        "    average_precision = average_precision_score(data_y[validation_index], y_score)\n",
        "\n",
        "    plt.step(recall, precision, alpha=0.2, where='post', label='fold %d (PREC = %0.2f)'% (i, average_precision))\n",
        "\n",
        "  plt.xlabel('Recall')\n",
        "  plt.ylabel('Precision')\n",
        "  plt.ylim([0.0, 1.05])\n",
        "  plt.xlim([0.0, 1.0])\n",
        "  plt.title('2-class Precision-Recall curve on Test Set ('+str(n_splits)+' StratifiedKFold splits)')\n",
        "  plt.legend(loc=\"lower right\")\n",
        "\n",
        "  plt.tight_layout()\n",
        "  plt.savefig(image_file_path, dpi=300)\n",
        "  plt.show()\n",
        "\n",
        "cross_val_precision_curve(pipe_reg, StratKFold, X_train, y_train, N_SPLITS, \n",
        "                          'REG_PREC_REC.png')"
      ],
      "execution_count": 21,
      "outputs": [
        {
          "output_type": "display_data",
          "data": {
            "image/png": "[encoded data removed]",
            "text/plain": [
              "<Figure size 432x288 with 1 Axes>"
            ]
          },
          "metadata": {
            "tags": []
          }
        }
      ]
    },
    {
      "metadata": {
        "id": "e8JGX0SuuX7v",
        "colab_type": "text"
      },
      "cell_type": "markdown",
      "source": [
        "# Hyperparameter Tuning\n",
        "Each machine learning model has a set of parameters which could be set to different values. Currently we have been using mostly default parameters for our classifier, or manually setting them (e.g. C in both Logistic Regression and SVM), but our model will likely be able to be improved if we change these to fit the data better. The sensitivity to hyperparameter settings change depending on the classifier; for example logistic regression is relatively insensitive to hyperparameter settings. However it is still necessary to find the right range of hyperparameters, otherwise differences between models may just be down to the default tuning parameters rather than the behavior of the model or features<sup>1</sup>.\n",
        "\n",
        "---\n",
        "\n",
        "1. Zheng, A., & Casari, A. (2018). Feature Engineering for Machine Learning: Principles and Techniques for Data Scientists. \" O'Reilly Media, Inc.\"."
      ]
    },
    {
      "metadata": {
        "id": "PUpG-r8cuQ91",
        "colab_type": "text"
      },
      "cell_type": "markdown",
      "source": [
        "## Grid Search\n",
        "\n",
        "A grid search is an exhaustive search paradigm where we specify a list inside a dictionary with various values for different hyperparameters. The computer will use this list to evaluate the model performance for each combination of values to obtain the set that scorers best on the given performance metric<sup>1</sup>.\n",
        "\n",
        "For support vector machines the values we will vary are C and Gamma. C controls the penalty for misclassification, with larger values corresponding to larger error penalties, meaning we can use this to control the the width of the margin around the decision boundary and therefore tune the bias-variance trade-off. Gamma is essentially a cut-off parameter for the kernal parameter, with increasing values increasing the influence of the training samples to create a tighter non-linear decision boundary<sup>1</sup>.\n",
        "\n",
        "The actual values we will initally use come from a previous paper looking at machine learning models for seizure detection<sup>2</sup>. We will make it into a function that returns a dataframe of the scores and the best model as we will use the gridsearch again later.\n",
        "\n",
        "Once we've found the optimal hyperparamters we can then actually use these optimal hyper-parameters to re-train our final model on the full training set to make the model slightly more accurate<sup>1</sup>. If we set *refit = True* (the default anyway), then this will do this for us for the best estimator.\n",
        "\n",
        "**NOTES**\n",
        "- if the grid param scores were the maximum values evaluated you should try increasing the values to see if the score will improve\n",
        "\n",
        "---\n",
        "\n",
        "1. Raschka, Sebastian, and Vahid Mirjalili. Python Machine Learning, 2nd Ed. Packt Publishing, 2017.\n",
        "\n",
        "2. Kjær, T. W., Sorensen, H. B. D., Groenborg, S., Pedersen, C. R., & Duun-Henriksen, J. (2017). Detection of Paroxysms in Long-Term, Single Channel EEG-Monitoring of Patients with Typical Absence Seizure. IEEE Journal of Translational Engineering in Health and Medicine, 5(September 2016). https://doi.org/10.1109/JTEHM.2017.2649491"
      ]
    },
    {
      "metadata": {
        "id": "1AYImKYvu0Ej",
        "colab_type": "code",
        "outputId": "52e5108b-0a76-4c80-ab30-950d94dca045",
        "colab": {
          "base_uri": "https://localhost:8080/",
          "height": 244
        }
      },
      "cell_type": "code",
      "source": [
        "%%time\n",
        "from sklearn.externals import joblib\n",
        "from sklearn.model_selection  import GridSearchCV\n",
        "\n",
        "# make a parameter grid with the range of hyperparameteer values of interest\n",
        "PARAM_GRID = {'clf__C': [0.5, 1.0, 2.0, 4.0, 8.0], \n",
        "              'clf__gamma': [0.005, 0.01, 0.02, 0.05, 0.1, 0.2]}\n",
        "\n",
        "def Grid_Search(X_train, y_train, estimator, cv, \n",
        "                param_grid, scorer, pipe_file_path):\n",
        "\n",
        "  # create gridsearch object\n",
        "  gs = GridSearchCV(estimator=estimator, \n",
        "                    param_grid=param_grid, \n",
        "                    scoring=scorer, \n",
        "                    cv=cv,\n",
        "                    return_train_score=True,\n",
        "                    refit = True,\n",
        "                    n_jobs=-1)\n",
        "\n",
        "  # fit the gridsearch object\n",
        "  gs = gs.fit(X_train, y_train)\n",
        "\n",
        "  # get the results of the gridsearch\n",
        "  results = pd.DataFrame(gs.cv_results_)\n",
        "\n",
        "  # select the best estimator\n",
        "  clf_pipe = gs.best_estimator_\n",
        "\n",
        "  # save\n",
        "  joblib.dump(clf_pipe, pipe_file_path)\n",
        "\n",
        "  display(results[['mean_fit_time','mean_score_time',\n",
        "                   'params','mean_test_score',\n",
        "                   'std_test_score']].sort_values(by='mean_test_score',\n",
        "                                                  ascending =False).head())\n",
        "\n",
        "  return clf_pipe, results\n",
        "\n",
        "best_svm_pipe, svm_grid_results = Grid_Search(X_train, y_train, pipe_svc, \n",
        "                                              StratKFold, PARAM_GRID, SCORER, \n",
        "                                              'Grid_SVM.joblib')"
      ],
      "execution_count": 22,
      "outputs": [
        {
          "output_type": "display_data",
          "data": {
            "text/html": [
              "<div>\n",
              "<style scoped>\n",
              "    .dataframe tbody tr th:only-of-type {\n",
              "        vertical-align: middle;\n",
              "    }\n",
              "\n",
              "    .dataframe tbody tr th {\n",
              "        vertical-align: top;\n",
              "    }\n",
              "\n",
              "    .dataframe thead th {\n",
              "        text-align: right;\n",
              "    }\n",
              "</style>\n",
              "<table border=\"1\" class=\"dataframe\">\n",
              "  <thead>\n",
              "    <tr style=\"text-align: right;\">\n",
              "      <th></th>\n",
              "      <th>mean_fit_time</th>\n",
              "      <th>mean_score_time</th>\n",
              "      <th>params</th>\n",
              "      <th>mean_test_score</th>\n",
              "      <th>std_test_score</th>\n",
              "    </tr>\n",
              "  </thead>\n",
              "  <tbody>\n",
              "    <tr>\n",
              "      <th>15</th>\n",
              "      <td>0.010302</td>\n",
              "      <td>0.001096</td>\n",
              "      <td>{'clf__C': 2.0, 'clf__gamma': 0.05}</td>\n",
              "      <td>0.979167</td>\n",
              "      <td>0.038415</td>\n",
              "    </tr>\n",
              "    <tr>\n",
              "      <th>13</th>\n",
              "      <td>0.007839</td>\n",
              "      <td>0.000475</td>\n",
              "      <td>{'clf__C': 2.0, 'clf__gamma': 0.01}</td>\n",
              "      <td>0.979167</td>\n",
              "      <td>0.033593</td>\n",
              "    </tr>\n",
              "    <tr>\n",
              "      <th>28</th>\n",
              "      <td>0.019979</td>\n",
              "      <td>0.000848</td>\n",
              "      <td>{'clf__C': 8.0, 'clf__gamma': 0.1}</td>\n",
              "      <td>0.979167</td>\n",
              "      <td>0.027951</td>\n",
              "    </tr>\n",
              "    <tr>\n",
              "      <th>27</th>\n",
              "      <td>0.012710</td>\n",
              "      <td>0.000682</td>\n",
              "      <td>{'clf__C': 8.0, 'clf__gamma': 0.05}</td>\n",
              "      <td>0.979167</td>\n",
              "      <td>0.027951</td>\n",
              "    </tr>\n",
              "    <tr>\n",
              "      <th>24</th>\n",
              "      <td>0.008358</td>\n",
              "      <td>0.000561</td>\n",
              "      <td>{'clf__C': 8.0, 'clf__gamma': 0.005}</td>\n",
              "      <td>0.979167</td>\n",
              "      <td>0.033593</td>\n",
              "    </tr>\n",
              "  </tbody>\n",
              "</table>\n",
              "</div>"
            ],
            "text/plain": [
              "    mean_fit_time  mean_score_time                                params  \\\n",
              "15       0.010302         0.001096   {'clf__C': 2.0, 'clf__gamma': 0.05}   \n",
              "13       0.007839         0.000475   {'clf__C': 2.0, 'clf__gamma': 0.01}   \n",
              "28       0.019979         0.000848    {'clf__C': 8.0, 'clf__gamma': 0.1}   \n",
              "27       0.012710         0.000682   {'clf__C': 8.0, 'clf__gamma': 0.05}   \n",
              "24       0.008358         0.000561  {'clf__C': 8.0, 'clf__gamma': 0.005}   \n",
              "\n",
              "    mean_test_score  std_test_score  \n",
              "15         0.979167        0.038415  \n",
              "13         0.979167        0.033593  \n",
              "28         0.979167        0.027951  \n",
              "27         0.979167        0.027951  \n",
              "24         0.979167        0.033593  "
            ]
          },
          "metadata": {
            "tags": []
          }
        },
        {
          "output_type": "stream",
          "text": [
            "CPU times: user 473 ms, sys: 19.9 ms, total: 493 ms\n",
            "Wall time: 2.89 s\n"
          ],
          "name": "stdout"
        }
      ]
    },
    {
      "metadata": {
        "id": "MKjixgGFvg3f",
        "colab_type": "text"
      },
      "cell_type": "markdown",
      "source": [
        "## Randomized Search\n",
        "\n",
        "Although a powerful method, gridsearch is computationally expensive as it has to evaluate all the possible parameter combinations. If we were working with a larger dataset (as we will in later tutorials), it is much better to randomly sample different random parameter combinations within a given range using RandomizedSearchCV<sup>1</sup>. \n",
        "\n",
        "You can provide distributions for sampling parameters as demontrated for gamma below. The distributions just make it more likely a value will be picked within a certain range. For example an exponential continuous random variable could be set so its more likely to get a lower number. Lets plot 1000 random samples and see where they lie.\n",
        "\n",
        "---\n",
        "\n",
        "1. Raschka, Sebastian, and Vahid Mirjalili. Python Machine Learning, 2nd Ed. Packt Publishing, 2017."
      ]
    },
    {
      "metadata": {
        "id": "fP8O7CDlvjcr",
        "colab_type": "code",
        "outputId": "d86def2f-9206-4d09-d0cd-1c9d0253c561",
        "colab": {
          "base_uri": "https://localhost:8080/",
          "height": 283
        }
      },
      "cell_type": "code",
      "source": [
        "from scipy.stats import expon\n",
        "\n",
        "plt.hist(expon(scale=0.1).rvs(size=1000), histtype='stepfilled', alpha=0.2)\n",
        "plt.xlabel('Parameter Number')\n",
        "plt.ylabel('Times picked')\n",
        "plt.show()"
      ],
      "execution_count": 23,
      "outputs": [
        {
          "output_type": "display_data",
          "data": {
            "image/png": "[encoded data removed]",
            "text/plain": [
              "<Figure size 432x288 with 1 Axes>"
            ]
          },
          "metadata": {
            "tags": []
          }
        }
      ]
    },
    {
      "metadata": {
        "id": "drEviisnvk2T",
        "colab_type": "text"
      },
      "cell_type": "markdown",
      "source": [
        "...or you could use a gamma continuous random variable to provide a more 'normal' distribution."
      ]
    },
    {
      "metadata": {
        "id": "CL_RSaMOvnrk",
        "colab_type": "code",
        "outputId": "034dd192-85c4-43eb-c434-eee5a20bb8e6",
        "colab": {
          "base_uri": "https://localhost:8080/",
          "height": 283
        }
      },
      "cell_type": "code",
      "source": [
        "from scipy.stats import gamma\n",
        "\n",
        "plt.hist(gamma(a=10, scale=0.01).rvs(size=1000), histtype='stepfilled', alpha=0.2)\n",
        "plt.xlabel('Parameter Number')\n",
        "plt.ylabel('Times picked')\n",
        "plt.show()"
      ],
      "execution_count": 24,
      "outputs": [
        {
          "output_type": "display_data",
          "data": {
            "image/png": "[encoded data removed]",
            "text/plain": [
              "<Figure size 432x288 with 1 Axes>"
            ]
          },
          "metadata": {
            "tags": []
          }
        }
      ]
    },
    {
      "metadata": {
        "id": "quqSSpnxvqj7",
        "colab_type": "text"
      },
      "cell_type": "markdown",
      "source": [
        "So instead of a set parameter dictionary lets provide our C with a random number between 0.1 and 8, and the Gamma parameter a gamma distribution around 0.1."
      ]
    },
    {
      "metadata": {
        "id": "MXDyWMYJvyKk",
        "colab_type": "code",
        "outputId": "aacc76ba-4b70-44d7-ccb3-a2a4877e16bf",
        "colab": {
          "base_uri": "https://localhost:8080/",
          "height": 244
        }
      },
      "cell_type": "code",
      "source": [
        "%%time\n",
        "from sklearn.externals import joblib\n",
        "from sklearn.model_selection  import RandomizedSearchCV\n",
        "from scipy.stats import randint as sp_randint\n",
        "\n",
        "PARAM_DIST = {'clf__C': sp_randint(0.1, 8.), \n",
        "              'clf__gamma': gamma(a=10, scale=0.01)}\n",
        "\n",
        "# Number of parameter settings that are sampled. \n",
        "# n_iter trades off runtime vs quality of the solution.\n",
        "N_ITER = 10\n",
        "\n",
        "def Rand_Search(X_train, y_train, estimator, cv, n_iter,\n",
        "                param_dist, scorer, pipe_file_path):\n",
        "        \n",
        "  # create gridsearch object\n",
        "  gs = RandomizedSearchCV(estimator=estimator,\n",
        "                          param_distributions=param_dist, \n",
        "                          n_iter = n_iter,\n",
        "                          scoring=scorer, \n",
        "                          cv=cv,\n",
        "                          return_train_score=True,\n",
        "                          n_jobs=-1)\n",
        "\n",
        "  # fit the gridsearch object\n",
        "  gs = gs.fit(X_train, y_train)\n",
        "\n",
        "  # get the results of the gridsearch\n",
        "  results = pd.DataFrame(gs.cv_results_)\n",
        "\n",
        "  # select the best estimator\n",
        "  clf_pipe = gs.best_estimator_\n",
        "\n",
        "  # save\n",
        "  joblib.dump(clf_pipe, pipe_file_path)\n",
        "\n",
        "  display(results[['mean_fit_time','mean_score_time',\n",
        "                   'params','mean_test_score',\n",
        "                   'std_test_score']].sort_values(by='mean_test_score',\n",
        "                                                  ascending =False).head())\n",
        "\n",
        "Rand_Search(X_train, y_train, pipe_svc, StratKFold, N_ITER, \n",
        "            PARAM_GRID, SCORER, 'Rand_SVM.joblib')"
      ],
      "execution_count": 25,
      "outputs": [
        {
          "output_type": "display_data",
          "data": {
            "text/html": [
              "<div>\n",
              "<style scoped>\n",
              "    .dataframe tbody tr th:only-of-type {\n",
              "        vertical-align: middle;\n",
              "    }\n",
              "\n",
              "    .dataframe tbody tr th {\n",
              "        vertical-align: top;\n",
              "    }\n",
              "\n",
              "    .dataframe thead th {\n",
              "        text-align: right;\n",
              "    }\n",
              "</style>\n",
              "<table border=\"1\" class=\"dataframe\">\n",
              "  <thead>\n",
              "    <tr style=\"text-align: right;\">\n",
              "      <th></th>\n",
              "      <th>mean_fit_time</th>\n",
              "      <th>mean_score_time</th>\n",
              "      <th>params</th>\n",
              "      <th>mean_test_score</th>\n",
              "      <th>std_test_score</th>\n",
              "    </tr>\n",
              "  </thead>\n",
              "  <tbody>\n",
              "    <tr>\n",
              "      <th>1</th>\n",
              "      <td>0.015264</td>\n",
              "      <td>0.000669</td>\n",
              "      <td>{'clf__gamma': 0.1, 'clf__C': 4.0}</td>\n",
              "      <td>0.979167</td>\n",
              "      <td>0.027951</td>\n",
              "    </tr>\n",
              "    <tr>\n",
              "      <th>7</th>\n",
              "      <td>0.012815</td>\n",
              "      <td>0.000711</td>\n",
              "      <td>{'clf__gamma': 0.05, 'clf__C': 8.0}</td>\n",
              "      <td>0.979167</td>\n",
              "      <td>0.027951</td>\n",
              "    </tr>\n",
              "    <tr>\n",
              "      <th>8</th>\n",
              "      <td>0.008974</td>\n",
              "      <td>0.000640</td>\n",
              "      <td>{'clf__gamma': 0.005, 'clf__C': 4.0}</td>\n",
              "      <td>0.979167</td>\n",
              "      <td>0.033593</td>\n",
              "    </tr>\n",
              "    <tr>\n",
              "      <th>3</th>\n",
              "      <td>0.007257</td>\n",
              "      <td>0.000493</td>\n",
              "      <td>{'clf__gamma': 0.02, 'clf__C': 4.0}</td>\n",
              "      <td>0.975000</td>\n",
              "      <td>0.042492</td>\n",
              "    </tr>\n",
              "    <tr>\n",
              "      <th>4</th>\n",
              "      <td>0.008783</td>\n",
              "      <td>0.000549</td>\n",
              "      <td>{'clf__gamma': 0.01, 'clf__C': 1.0}</td>\n",
              "      <td>0.975000</td>\n",
              "      <td>0.038188</td>\n",
              "    </tr>\n",
              "  </tbody>\n",
              "</table>\n",
              "</div>"
            ],
            "text/plain": [
              "   mean_fit_time  mean_score_time                                params  \\\n",
              "1       0.015264         0.000669    {'clf__gamma': 0.1, 'clf__C': 4.0}   \n",
              "7       0.012815         0.000711   {'clf__gamma': 0.05, 'clf__C': 8.0}   \n",
              "8       0.008974         0.000640  {'clf__gamma': 0.005, 'clf__C': 4.0}   \n",
              "3       0.007257         0.000493   {'clf__gamma': 0.02, 'clf__C': 4.0}   \n",
              "4       0.008783         0.000549   {'clf__gamma': 0.01, 'clf__C': 1.0}   \n",
              "\n",
              "   mean_test_score  std_test_score  \n",
              "1         0.979167        0.027951  \n",
              "7         0.979167        0.027951  \n",
              "8         0.979167        0.033593  \n",
              "3         0.975000        0.042492  \n",
              "4         0.975000        0.038188  "
            ]
          },
          "metadata": {
            "tags": []
          }
        },
        {
          "output_type": "stream",
          "text": [
            "CPU times: user 126 ms, sys: 7.85 ms, total: 134 ms\n",
            "Wall time: 913 ms\n"
          ],
          "name": "stdout"
        }
      ]
    },
    {
      "metadata": {
        "id": "ZlUOdY1kwdss",
        "colab_type": "text"
      },
      "cell_type": "markdown",
      "source": [
        "Imagining we have decided this is the best method to use, we could then use this on our test set as a final performance evaluation."
      ]
    },
    {
      "metadata": {
        "id": "eqybCZidwbSW",
        "colab_type": "code",
        "outputId": "ef070c9c-897a-4327-cc81-dd088be97567",
        "colab": {
          "base_uri": "https://localhost:8080/",
          "height": 158
        }
      },
      "cell_type": "code",
      "source": [
        "predictions = best_svm_pipe.predict(X_test)\n",
        "\n",
        "confmat = confusion_matrix(y_true=y_test, y_pred=predictions)\n",
        "\n",
        "pretty_confusion_matrix(confmat)"
      ],
      "execution_count": 26,
      "outputs": [
        {
          "output_type": "display_data",
          "data": {
            "image/png": "[encoded data removed]",
            "text/plain": [
              "<Figure size 180x180 with 1 Axes>"
            ]
          },
          "metadata": {
            "tags": []
          }
        }
      ]
    },
    {
      "metadata": {
        "id": "94E-MoWkwomP",
        "colab_type": "text"
      },
      "cell_type": "markdown",
      "source": [
        "## Bayesian Optimization\n",
        "\n",
        "Optimizing the hyperparameters of a machine learning model could be seen as a minimization problem, as we are looking for the lowest validation loss<sup>1</sup>. Bayesian optimization is a probabilisitic model that can be more efficient than manual, random, or grid search for finding optimal hyperparameters<sup>2</sup>. There are a number of python packages to do bayesian optimization such as...\n",
        "\n",
        "- Spearmint<sup>3</sup>\n",
        "    - Gaussian process\n",
        "- Hyperopt<sup>4</sup>\n",
        "    - Tree Parzen Estimator (TPE)\n",
        "- SMAC<sup>5</sup>\n",
        "    - Random forest regression\n",
        "    \n",
        "We are going to use Hyperopt, mainly because there are a number of tutorials on its use<sup>6,7</sup> .\n",
        "\n",
        "Alike to random search, a search space needs to be specified. Although initally stochastic, as hyperopt gets more feedback from an objective function, it samples parts of the search space that gives it the most meaningful feedback<sup>1</sup>.\n",
        "\n",
        "We can use STATUS_OK and Trials to store information at each timestep and use them for visualisations. \n",
        "\n",
        "**NOTES**\n",
        "- This implimentation was based on<sup>1</sup>\n",
        "- For a good conceptual explanation of the method, read [this post]\n",
        "\n",
        "---\n",
        "\n",
        "1. https://towardsdatascience.com/an-introductory-example-of-bayesian-optimization-in-python-with-hyperopt-aae40fff4ff0\n",
        "2. Bergstra, J., Yamins, D., & Cox, D. D. (2013). Making a science of model search: Hyperparameter optimization in hundreds of dimensions for vision architectures.\n",
        "3. https://github.com/HIPS/Spearmint\n",
        "4. http://hyperopt.github.io/hyperopt/\n",
        "5. https://automl.github.io/SMAC3/stable/\n",
        "6. https://github.com/WillKoehrsen/hyperparameter-optimization/blob/master/Bayesian%20Hyperparameter%20Optimization%20of%20Gradient%20Boosting%20Machine.ipynb\n",
        "7. https://medium.com/district-data-labs/parameter-tuning-with-hyperopt-faa86acdfdce\n",
        "[this post]: https://towardsdatascience.com/a-conceptual-explanation-of-bayesian-model-based-hyperparameter-optimization-for-machine-learning-b8172278050f"
      ]
    },
    {
      "metadata": {
        "id": "nMXD66rX34Nb",
        "colab_type": "code",
        "outputId": "c3222b2f-c3b3-4fc1-d6a2-ab16f095088c",
        "colab": {
          "base_uri": "https://localhost:8080/",
          "height": 74
        }
      },
      "cell_type": "code",
      "source": [
        "from hyperopt import fmin, tpe, hp, STATUS_OK, Trials\n",
        "from sklearn.preprocessing import StandardScaler\n",
        "\n",
        "PARAM_DIST = {\n",
        "  'C': hp.uniform('C', 0, 8),\n",
        "  'kernel': hp.choice('kernel', ['linear', 'sigmoid', 'poly', 'rbf']),\n",
        "  'gamma': hp.uniform('gamma', 0, 1),\n",
        "  'scale': hp.choice('scale', [0, 1])\n",
        "}\n",
        "\n",
        "def hyperopt_train_test(params):\n",
        "  X_ = X_train[:]\n",
        "\n",
        "  if 'scale' in params:\n",
        "    if params['scale'] == 1:\n",
        "      sc = StandardScaler()\n",
        "      X_ = sc.fit_transform(X_)\n",
        "    del params['scale']\n",
        "\n",
        "  clf = SVC(**params)\n",
        "  return cross_val_score(clf, X_, y_train, cv = 5).mean()\n",
        "\n",
        "def objective(params):\n",
        "  acc = hyperopt_train_test(params)\n",
        "  return {'loss': -acc,             # minus because we need to reduce\n",
        "          'status': STATUS_OK}\n",
        "\n",
        "trials = Trials()\n",
        "best = fmin(objective, PARAM_DIST, \n",
        "            algo=tpe.suggest, max_evals=500, \n",
        "            trials=trials)\n",
        "\n",
        "print('best:')\n",
        "print(best)"
      ],
      "execution_count": 27,
      "outputs": [
        {
          "output_type": "stream",
          "text": [
            "100%|██████████| 500/500 [00:29<00:00, 28.87it/s, best loss: -0.9875]\n",
            "best:\n",
            "{'C': 5.922596171742327, 'gamma': 0.03691800136313343, 'kernel': 3, 'scale': 1}\n"
          ],
          "name": "stdout"
        }
      ]
    },
    {
      "metadata": {
        "id": "psw7r-Oa-9jO",
        "colab_type": "text"
      },
      "cell_type": "markdown",
      "source": [
        "We can now plot the accuracy compared to the hyperparameter value...\n",
        "\n",
        "**NOTES**\n",
        "- This was based on<sup>1</sup>\n",
        "\n",
        "---\n",
        "1. https://medium.com/district-data-labs/parameter-tuning-with-hyperopt-faa86acdfdce"
      ]
    },
    {
      "metadata": {
        "id": "LCVIy3Bv-HEE",
        "colab_type": "code",
        "outputId": "19c8215b-f7c6-47db-9010-3e529731466f",
        "colab": {
          "base_uri": "https://localhost:8080/",
          "height": 350
        }
      },
      "cell_type": "code",
      "source": [
        "def trials_plot(plot_type):\n",
        "\n",
        "  parameters = list(PARAM_DIST.keys())\n",
        "\n",
        "  f, axes = plt.subplots(nrows=1, ncols=len(parameters), figsize=(20,5))\n",
        "\n",
        "  for i, val in enumerate(parameters):\n",
        "    ys = np.array([t['misc']['vals'][val] for t in trials.trials]).ravel()\n",
        "    \n",
        "    if plot_type=='Accuracy':\n",
        "      xs = [-t['result']['loss'] for t in trials.trials]\n",
        "      axes[i].scatter(xs, ys, s=20, linewidth=0.01, \n",
        "                    alpha=0.25, c=xs, cmap = plt.cm.jet)\n",
        "    elif plot_type=='Time':\n",
        "      xs = [t['tid'] for t in trials.trials]\n",
        "      axes[i].scatter(xs, ys, s=20, linewidth=0.01)\n",
        "    else:\n",
        "      print('plot_type can be Accuracy or Time')\n",
        "      \n",
        "    axes[i].set_title(val)\n",
        "\n",
        "  # add a big axes, hide frame\n",
        "  f.add_subplot(111, frameon=False)\n",
        "  # hide tick and tick label of the big axes\n",
        "  plt.tick_params(labelcolor='none', \n",
        "                  top=False, \n",
        "                  bottom=False, \n",
        "                  left=False, \n",
        "                  right=False)\n",
        "  plt.grid(False)\n",
        "  plt.xlabel(plot_type)\n",
        "  plt.ylabel('Hyperparameter Value')\n",
        "\n",
        "  plt.show()\n",
        "\n",
        "  \n",
        "trials_plot(plot_type='Time')  "
      ],
      "execution_count": 28,
      "outputs": [
        {
          "output_type": "display_data",
          "data": {
            "image/png": "[encoded data removed]",
            "text/plain": [
              "<Figure size 1440x360 with 5 Axes>"
            ]
          },
          "metadata": {
            "tags": []
          }
        }
      ]
    },
    {
      "metadata": {
        "id": "0FxYxcFRGR7R",
        "colab_type": "text"
      },
      "cell_type": "markdown",
      "source": [
        "As we can see above the parameter of C is pretty evenly spred meaning one best value was not really focused on over others, however the gamma shows a preference for lower values over time. If we plot the accuracy and hyperparameter values we can see a similar pattern."
      ]
    },
    {
      "metadata": {
        "id": "-6WmN2W-_ZY2",
        "colab_type": "code",
        "outputId": "d9c7a91a-9bc5-4443-d1e3-a8e2c6853f1e",
        "colab": {
          "base_uri": "https://localhost:8080/",
          "height": 350
        }
      },
      "cell_type": "code",
      "source": [
        "trials_plot(plot_type='Accuracy')"
      ],
      "execution_count": 29,
      "outputs": [
        {
          "output_type": "display_data",
          "data": {
            "image/png": "[encoded data removed]",
            "text/plain": [
              "<Figure size 1440x360 with 5 Axes>"
            ]
          },
          "metadata": {
            "tags": []
          }
        }
      ]
    },
    {
      "metadata": {
        "id": "kboASAEJH4wD",
        "colab_type": "text"
      },
      "cell_type": "markdown",
      "source": [
        "We may want to get out a dataframe similar to what we saw before from the other methods so lets do that before we move on."
      ]
    },
    {
      "metadata": {
        "id": "S3YbMsCy_Al2",
        "colab_type": "code",
        "outputId": "3ef89e51-5a12-46cd-8693-0d98252b2935",
        "colab": {
          "base_uri": "https://localhost:8080/",
          "height": 238
        }
      },
      "cell_type": "code",
      "source": [
        "df = pd.DataFrame()\n",
        "for i, t in enumerate(trials.trials):\n",
        "  df = pd.DataFrame(t['misc']['vals'])\n",
        "  df['loss'] = t['result']['loss']\n",
        "  df['tid'] = t['tid']\n",
        "  df = df.set_index('tid')\n",
        "  df['time (ms)'] = (t['refresh_time'] - t['book_time']).microseconds/1000\n",
        "  \n",
        "  if i ==0:\n",
        "    results = df\n",
        "  else:\n",
        "    results = pd.concat([results, df])\n",
        "    \n",
        "    \n",
        "results.sort_values(by='loss',ascending = True).head()"
      ],
      "execution_count": 30,
      "outputs": [
        {
          "output_type": "execute_result",
          "data": {
            "text/html": [
              "<div>\n",
              "<style scoped>\n",
              "    .dataframe tbody tr th:only-of-type {\n",
              "        vertical-align: middle;\n",
              "    }\n",
              "\n",
              "    .dataframe tbody tr th {\n",
              "        vertical-align: top;\n",
              "    }\n",
              "\n",
              "    .dataframe thead th {\n",
              "        text-align: right;\n",
              "    }\n",
              "</style>\n",
              "<table border=\"1\" class=\"dataframe\">\n",
              "  <thead>\n",
              "    <tr style=\"text-align: right;\">\n",
              "      <th></th>\n",
              "      <th>C</th>\n",
              "      <th>gamma</th>\n",
              "      <th>kernel</th>\n",
              "      <th>scale</th>\n",
              "      <th>loss</th>\n",
              "      <th>time (ms)</th>\n",
              "    </tr>\n",
              "    <tr>\n",
              "      <th>tid</th>\n",
              "      <th></th>\n",
              "      <th></th>\n",
              "      <th></th>\n",
              "      <th></th>\n",
              "      <th></th>\n",
              "      <th></th>\n",
              "    </tr>\n",
              "  </thead>\n",
              "  <tbody>\n",
              "    <tr>\n",
              "      <th>439</th>\n",
              "      <td>3.142441</td>\n",
              "      <td>0.070518</td>\n",
              "      <td>3</td>\n",
              "      <td>1</td>\n",
              "      <td>-0.9875</td>\n",
              "      <td>16.0</td>\n",
              "    </tr>\n",
              "    <tr>\n",
              "      <th>262</th>\n",
              "      <td>2.665681</td>\n",
              "      <td>0.091870</td>\n",
              "      <td>3</td>\n",
              "      <td>1</td>\n",
              "      <td>-0.9875</td>\n",
              "      <td>17.0</td>\n",
              "    </tr>\n",
              "    <tr>\n",
              "      <th>260</th>\n",
              "      <td>1.852584</td>\n",
              "      <td>0.078945</td>\n",
              "      <td>3</td>\n",
              "      <td>1</td>\n",
              "      <td>-0.9875</td>\n",
              "      <td>18.0</td>\n",
              "    </tr>\n",
              "    <tr>\n",
              "      <th>258</th>\n",
              "      <td>1.845575</td>\n",
              "      <td>0.078046</td>\n",
              "      <td>3</td>\n",
              "      <td>1</td>\n",
              "      <td>-0.9875</td>\n",
              "      <td>17.0</td>\n",
              "    </tr>\n",
              "    <tr>\n",
              "      <th>252</th>\n",
              "      <td>3.769556</td>\n",
              "      <td>0.053358</td>\n",
              "      <td>3</td>\n",
              "      <td>1</td>\n",
              "      <td>-0.9875</td>\n",
              "      <td>16.0</td>\n",
              "    </tr>\n",
              "  </tbody>\n",
              "</table>\n",
              "</div>"
            ],
            "text/plain": [
              "            C     gamma  kernel  scale    loss  time (ms)\n",
              "tid                                                      \n",
              "439  3.142441  0.070518       3      1 -0.9875       16.0\n",
              "262  2.665681  0.091870       3      1 -0.9875       17.0\n",
              "260  1.852584  0.078945       3      1 -0.9875       18.0\n",
              "258  1.845575  0.078046       3      1 -0.9875       17.0\n",
              "252  3.769556  0.053358       3      1 -0.9875       16.0"
            ]
          },
          "metadata": {
            "tags": []
          },
          "execution_count": 30
        }
      ]
    },
    {
      "metadata": {
        "id": "IV2PJC2yJlhN",
        "colab_type": "text"
      },
      "cell_type": "markdown",
      "source": [
        "There is even a version that focuses on making Hyperopt have a more Sklearn API focus\n"
      ]
    },
    {
      "metadata": {
        "id": "Yf2Ie03TL06x",
        "colab_type": "code",
        "outputId": "4a6cb52c-2e84-407c-cec0-4c671d23cd45",
        "colab": {
          "base_uri": "https://localhost:8080/",
          "height": 379
        }
      },
      "cell_type": "code",
      "source": [
        "!pip install hpsklearn"
      ],
      "execution_count": 31,
      "outputs": [
        {
          "output_type": "stream",
          "text": [
            "Collecting hpsklearn\n",
            "  Downloading https://files.pythonhosted.org/packages/ce/cb/61b99f73621e2692abd0e730f7888a9983d01f626868336fa1db1d57bc1e/hpsklearn-0.1.0.tar.gz\n",
            "Requirement already satisfied: hyperopt in /usr/local/lib/python3.6/dist-packages (from hpsklearn) (0.1.2)\n",
            "Requirement already satisfied: nose in /usr/local/lib/python3.6/dist-packages (from hpsklearn) (1.3.7)\n",
            "Requirement already satisfied: numpy in /usr/local/lib/python3.6/dist-packages (from hpsklearn) (1.16.3)\n",
            "Requirement already satisfied: scikit-learn in /usr/local/lib/python3.6/dist-packages (from hpsklearn) (0.20.3)\n",
            "Requirement already satisfied: scipy in /usr/local/lib/python3.6/dist-packages (from hpsklearn) (1.2.1)\n",
            "Requirement already satisfied: networkx in /usr/local/lib/python3.6/dist-packages (from hyperopt->hpsklearn) (2.3)\n",
            "Requirement already satisfied: six in /usr/local/lib/python3.6/dist-packages (from hyperopt->hpsklearn) (1.12.0)\n",
            "Requirement already satisfied: future in /usr/local/lib/python3.6/dist-packages (from hyperopt->hpsklearn) (0.16.0)\n",
            "Requirement already satisfied: tqdm in /usr/local/lib/python3.6/dist-packages (from hyperopt->hpsklearn) (4.28.1)\n",
            "Requirement already satisfied: pymongo in /usr/local/lib/python3.6/dist-packages (from hyperopt->hpsklearn) (3.8.0)\n",
            "Requirement already satisfied: decorator>=4.3.0 in /usr/local/lib/python3.6/dist-packages (from networkx->hyperopt->hpsklearn) (4.4.0)\n",
            "Building wheels for collected packages: hpsklearn\n",
            "  Building wheel for hpsklearn (setup.py) ... \u001b[?25ldone\n",
            "\u001b[?25h  Stored in directory: /root/.cache/pip/wheels/41/ee/c4/3c267cbf78f0905434ee36b915d97a20610ad3af7ff3c75852\n",
            "Successfully built hpsklearn\n",
            "Installing collected packages: hpsklearn\n",
            "Successfully installed hpsklearn-0.1.0\n"
          ],
          "name": "stdout"
        }
      ]
    },
    {
      "metadata": {
        "id": "1_yaRqSMJu1I",
        "colab_type": "code",
        "outputId": "c9f76b98-9593-4477-db64-f7a01b7126ed",
        "colab": {
          "base_uri": "https://localhost:8080/",
          "height": 386
        }
      },
      "cell_type": "code",
      "source": [
        "from hpsklearn import HyperoptEstimator, svc\n",
        "from hpsklearn import standard_scaler, min_max_scaler, normalizer\n",
        "\n",
        "estim = HyperoptEstimator(\n",
        "    classifier=svc('mySVC', \n",
        "                   kernels=['linear', 'rbf', 'poly', 'sigmoid'],\n",
        "                   C = hp.uniform('C', 0, 8),\n",
        "                   gamma = hp.uniform('gamma', 0, 1)),\n",
        "    preprocessing = [standard_scaler('standard'),\n",
        "                     min_max_scaler('minmax'),\n",
        "                     normalizer('Normal')],\n",
        "    max_evals=10\n",
        ")\n",
        "\n",
        "estim.fit(X_train,y_train)\n",
        "\n",
        "predictions = estim.predict(X_test)\n",
        "\n",
        "confmat = confusion_matrix(y_true=y_test, y_pred=predictions)\n",
        "\n",
        "pretty_confusion_matrix(confmat)"
      ],
      "execution_count": 32,
      "outputs": [
        {
          "output_type": "stream",
          "text": [
            "WARN: OMP_NUM_THREADS=None =>\n",
            "... If you are using openblas if you are using openblas set OMP_NUM_THREADS=1 or risk subprocess calls hanging indefinitely\n",
            "100%|██████████| 1/1 [00:00<00:00, 30.01it/s, best loss: 0.0]\n",
            "100%|██████████| 1/1 [00:00<00:00, 29.99it/s, best loss: 0.0]\n",
            "100%|██████████| 1/1 [00:00<00:00, 30.73it/s, best loss: 0.0]\n",
            "100%|██████████| 1/1 [00:00<00:00, 29.53it/s, best loss: 0.0]\n",
            "100%|██████████| 1/1 [00:00<00:00, 31.55it/s, best loss: 0.0]\n",
            "100%|██████████| 1/1 [00:00<00:00, 28.99it/s, best loss: 0.0]\n",
            "100%|██████████| 1/1 [00:00<00:00, 29.47it/s, best loss: 0.0]\n",
            "100%|██████████| 1/1 [00:00<00:00, 27.92it/s, best loss: 0.0]\n",
            "100%|██████████| 1/1 [00:00<00:00, 30.22it/s, best loss: 0.0]\n",
            "100%|██████████| 1/1 [00:00<00:00, 30.26it/s, best loss: 0.0]\n"
          ],
          "name": "stdout"
        },
        {
          "output_type": "display_data",
          "data": {
            "image/png": "[encoded data removed]",
            "text/plain": [
              "<Figure size 180x180 with 1 Axes>"
            ]
          },
          "metadata": {
            "tags": []
          }
        }
      ]
    },
    {
      "metadata": {
        "id": "xenZdxh_a7jn",
        "colab_type": "text"
      },
      "cell_type": "markdown",
      "source": [
        "## Validation Curves\n",
        "\n",
        "We can also manually tweek hyperparameters using validation curves. Validation curves are very similar to learning curves, but instead plot the training and test accuracies to see how an estimator performs when varying the models parameters.\n",
        "\n",
        "Unfortunately mlxtend at time of writing does not have a validation curve, so we'll have to use the easy implimentation provided in Raschka and Mirjalili's book<sup>1</sup>\n",
        "\n",
        "---\n",
        "1. Raschka, Sebastian, and Vahid Mirjalili. Python Machine Learning, 2nd Ed. Packt Publishing, 2017."
      ]
    },
    {
      "metadata": {
        "id": "fRnZy0T2bS-n",
        "colab_type": "code",
        "outputId": "803d721c-0178-4977-e21e-aacf22f451bf",
        "colab": {
          "base_uri": "https://localhost:8080/",
          "height": 287
        }
      },
      "cell_type": "code",
      "source": [
        "from sklearn.model_selection import validation_curve\n",
        "param_range = [0.001, 0.01, 0.1, 1.0, 10.0, 100.0]\n",
        "\n",
        "train_scores, test_scores = validation_curve(estimator=pipe_svc,\n",
        "                                             X=X_train,\n",
        "                                             y=y_train,\n",
        "                                             param_name='clf__C',\n",
        "                                             param_range=param_range,\n",
        "                                             cv=10)\n",
        "train_mean = np.mean(train_scores, axis=1)\n",
        "train_std = np.std(train_scores, axis=1)\n",
        "test_mean = np.mean(test_scores, axis=1)\n",
        "test_std = np.std(test_scores, axis=1)\n",
        "\n",
        "plt.plot(param_range, \n",
        "         train_mean,\n",
        "         color='blue',\n",
        "         marker='o',\n",
        "         markersize=5, \n",
        "         label='training accuracy')\n",
        "\n",
        "plt.fill_between(param_range, train_mean + train_std,\n",
        "                 train_mean - train_std, alpha=0.15,\n",
        "                 color='blue')\n",
        "\n",
        "plt.plot(param_range, test_mean,\n",
        "         color='green', linestyle='--',\n",
        "         marker='s', markersize=5,\n",
        "         label='validation accuracy')\n",
        "\n",
        "plt.fill_between(param_range,\n",
        "                 test_mean + test_std,\n",
        "                 test_mean - test_std,\n",
        "                 alpha=0.15, color='green')\n",
        "\n",
        "plt.grid()\n",
        "plt.xscale('log')\n",
        "plt.legend(loc='lower right')\n",
        "plt.xlabel('Parameter C')\n",
        "plt.ylabel('Accuracy')\n",
        "plt.ylim([0.8, 1.03])\n",
        "plt.show()"
      ],
      "execution_count": 33,
      "outputs": [
        {
          "output_type": "display_data",
          "data": {
            "image/png": "[encoded data removed]",
            "text/plain": [
              "<Figure size 432x288 with 1 Axes>"
            ]
          },
          "metadata": {
            "tags": []
          }
        }
      ]
    },
    {
      "metadata": {
        "id": "JB5z6MJqbppV",
        "colab_type": "text"
      },
      "cell_type": "markdown",
      "source": [
        "This can be used to reduce problems with overfitting"
      ]
    },
    {
      "metadata": {
        "id": "Tdp8Wh76bwBW",
        "colab_type": "code",
        "outputId": "11243692-349d-4785-a2cc-2898e6594d45",
        "colab": {
          "base_uri": "https://localhost:8080/",
          "height": 591
        }
      },
      "cell_type": "code",
      "source": [
        "from mlxtend.plotting import plot_learning_curves\n",
        "from sklearn.base import clone\n",
        "\n",
        "change_C_SVM = clone(pipe_svc).set_params(**{'clf__C': 0.1})\n",
        "\n",
        "for svm in [pipe_svc, change_C_SVM]:\n",
        "  plot_learning_curves(X_train, \n",
        "                       y_train, \n",
        "                       X_test, \n",
        "                       y_test, \n",
        "                       svm, \n",
        "                       train_marker='o', \n",
        "                       test_marker='^', \n",
        "                       scoring='accuracy', \n",
        "                       print_model =False)\n",
        "  plt.ylim(top=1.01)\n",
        "  plt.show()"
      ],
      "execution_count": 34,
      "outputs": [
        {
          "output_type": "display_data",
          "data": {
            "image/png": "[encoded data removed]",
            "text/plain": [
              "<Figure size 432x288 with 1 Axes>"
            ]
          },
          "metadata": {
            "tags": []
          }
        },
        {
          "output_type": "display_data",
          "data": {
            "image/png": "[encoded data removed]",
            "text/plain": [
              "<Figure size 432x288 with 1 Axes>"
            ]
          },
          "metadata": {
            "tags": []
          }
        }
      ]
    },
    {
      "metadata": {
        "id": "9shVAE4xmuz6",
        "colab_type": "text"
      },
      "cell_type": "markdown",
      "source": [
        "# Exercises\n",
        "\n",
        "Below are a few suggested exercises that may help improve your skills.\n",
        "\n",
        "**TODO**\n",
        "- Make some exercises..."
      ]
    },
    {
      "metadata": {
        "id": "-EX0KJVwmvoI",
        "colab_type": "text"
      },
      "cell_type": "markdown",
      "source": [
        "# License\n",
        "\n",
        "<a rel=\"license\" href=\"http://creativecommons.org/licenses/by-nc/4.0/\"><img alt=\"Creative Commons License\" style=\"border-width:0\" src=\"https://i.creativecommons.org/l/by-nc/4.0/88x31.png\" /></a><br />This work is licensed under a <a rel=\"license\" href=\"http://creativecommons.org/licenses/by-nc/4.0/\">Creative Commons Attribution-NonCommercial 4.0 International License</a>."
      ]
    }
  ]
}